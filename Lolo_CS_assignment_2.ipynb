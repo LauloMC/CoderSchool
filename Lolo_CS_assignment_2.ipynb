{
 "cells": [
  {
   "cell_type": "markdown",
   "metadata": {},
   "source": [
    "# Data preparation"
   ]
  },
  {
   "cell_type": "markdown",
   "metadata": {},
   "source": [
    "## Import data"
   ]
  },
  {
   "cell_type": "code",
   "execution_count": 736,
   "metadata": {},
   "outputs": [],
   "source": [
    "import pandas as pd\n",
    "import numpy as np"
   ]
  },
  {
   "cell_type": "code",
   "execution_count": 737,
   "metadata": {},
   "outputs": [
    {
     "data": {
      "text/html": [
       "<div>\n",
       "<style scoped>\n",
       "    .dataframe tbody tr th:only-of-type {\n",
       "        vertical-align: middle;\n",
       "    }\n",
       "\n",
       "    .dataframe tbody tr th {\n",
       "        vertical-align: top;\n",
       "    }\n",
       "\n",
       "    .dataframe thead th {\n",
       "        text-align: right;\n",
       "    }\n",
       "</style>\n",
       "<table border=\"1\" class=\"dataframe\">\n",
       "  <thead>\n",
       "    <tr style=\"text-align: right;\">\n",
       "      <th></th>\n",
       "      <th>_id</th>\n",
       "      <th>album</th>\n",
       "      <th>artist</th>\n",
       "      <th>audio_features</th>\n",
       "      <th>context</th>\n",
       "      <th>decades</th>\n",
       "      <th>genres</th>\n",
       "      <th>lyrics_features</th>\n",
       "      <th>moods</th>\n",
       "      <th>name</th>\n",
       "      <th>new_context</th>\n",
       "      <th>picture</th>\n",
       "      <th>recording_id</th>\n",
       "      <th>sub_context</th>\n",
       "      <th>yt_id</th>\n",
       "      <th>yt_views</th>\n",
       "    </tr>\n",
       "  </thead>\n",
       "  <tbody>\n",
       "    <tr>\n",
       "      <th>0</th>\n",
       "      <td>{'$oid': '52fdfb440b9398049f3d7a8c'}</td>\n",
       "      <td>Gangnam Style (강남스타일)</td>\n",
       "      <td>PSY</td>\n",
       "      <td>[11, 0.912744, 0.083704, 132.069, 0.293137, 0....</td>\n",
       "      <td>[work out]</td>\n",
       "      <td>[]</td>\n",
       "      <td>[pop]</td>\n",
       "      <td>[oppa, gangnam, style, gangnam, style, najeneu...</td>\n",
       "      <td>[energetic, motivational]</td>\n",
       "      <td>Gangnam Style (강남스타일)</td>\n",
       "      <td>work out</td>\n",
       "      <td>http://images.musicnet.com/albums/073/463/405/...</td>\n",
       "      <td>50232.0</td>\n",
       "      <td>[working out: cardio]</td>\n",
       "      <td>9bZkp7q19f0</td>\n",
       "      <td>2450112089</td>\n",
       "    </tr>\n",
       "    <tr>\n",
       "      <th>1</th>\n",
       "      <td>{'$oid': '52fdfb3d0b9398049f3cbc8e'}</td>\n",
       "      <td>Native</td>\n",
       "      <td>OneRepublic</td>\n",
       "      <td>[6, 0.7457039999999999, 0.11995499999999999, 1...</td>\n",
       "      <td>[energetic]</td>\n",
       "      <td>[2012]</td>\n",
       "      <td>[pop]</td>\n",
       "      <td>[lately, i, ve, been, i, ve, been, losing, sle...</td>\n",
       "      <td>[happy]</td>\n",
       "      <td>Counting Stars</td>\n",
       "      <td>energetic</td>\n",
       "      <td>http://images.musicnet.com/albums/081/851/887/...</td>\n",
       "      <td>5839.0</td>\n",
       "      <td>[energy boost]</td>\n",
       "      <td>hT_nvWreIhg</td>\n",
       "      <td>1020297206</td>\n",
       "    </tr>\n",
       "    <tr>\n",
       "      <th>2</th>\n",
       "      <td>{'$oid': '52fdfb420b9398049f3d3ea5'}</td>\n",
       "      <td>Party Rock Anthem</td>\n",
       "      <td>LMFAO</td>\n",
       "      <td>[5, 0.709932, 0.231455, 130.03, 0.121740999999...</td>\n",
       "      <td>[energetic, energetic, energetic, energetic]</td>\n",
       "      <td>[]</td>\n",
       "      <td>[]</td>\n",
       "      <td>[party, rock, yeah, woo, let, s, go, party, ro...</td>\n",
       "      <td>[happy, celebratory, rowdy]</td>\n",
       "      <td>Party Rock Anthem</td>\n",
       "      <td>housework</td>\n",
       "      <td>http://images.musicnet.com/albums/049/414/127/...</td>\n",
       "      <td>52379.0</td>\n",
       "      <td>[energy boost, pleasing a crowd, housework, dr...</td>\n",
       "      <td>KQ6zr6kCPj8</td>\n",
       "      <td>971128436</td>\n",
       "    </tr>\n",
       "  </tbody>\n",
       "</table>\n",
       "</div>"
      ],
      "text/plain": [
       "                                    _id                  album       artist  \\\n",
       "0  {'$oid': '52fdfb440b9398049f3d7a8c'}  Gangnam Style (강남스타일)          PSY   \n",
       "1  {'$oid': '52fdfb3d0b9398049f3cbc8e'}                 Native  OneRepublic   \n",
       "2  {'$oid': '52fdfb420b9398049f3d3ea5'}      Party Rock Anthem        LMFAO   \n",
       "\n",
       "                                      audio_features  \\\n",
       "0  [11, 0.912744, 0.083704, 132.069, 0.293137, 0....   \n",
       "1  [6, 0.7457039999999999, 0.11995499999999999, 1...   \n",
       "2  [5, 0.709932, 0.231455, 130.03, 0.121740999999...   \n",
       "\n",
       "                                        context decades genres  \\\n",
       "0                                    [work out]      []  [pop]   \n",
       "1                                   [energetic]  [2012]  [pop]   \n",
       "2  [energetic, energetic, energetic, energetic]      []     []   \n",
       "\n",
       "                                     lyrics_features  \\\n",
       "0  [oppa, gangnam, style, gangnam, style, najeneu...   \n",
       "1  [lately, i, ve, been, i, ve, been, losing, sle...   \n",
       "2  [party, rock, yeah, woo, let, s, go, party, ro...   \n",
       "\n",
       "                         moods                   name new_context  \\\n",
       "0    [energetic, motivational]  Gangnam Style (강남스타일)    work out   \n",
       "1                      [happy]         Counting Stars   energetic   \n",
       "2  [happy, celebratory, rowdy]      Party Rock Anthem   housework   \n",
       "\n",
       "                                             picture  recording_id  \\\n",
       "0  http://images.musicnet.com/albums/073/463/405/...       50232.0   \n",
       "1  http://images.musicnet.com/albums/081/851/887/...        5839.0   \n",
       "2  http://images.musicnet.com/albums/049/414/127/...       52379.0   \n",
       "\n",
       "                                         sub_context        yt_id    yt_views  \n",
       "0                              [working out: cardio]  9bZkp7q19f0  2450112089  \n",
       "1                                     [energy boost]  hT_nvWreIhg  1020297206  \n",
       "2  [energy boost, pleasing a crowd, housework, dr...  KQ6zr6kCPj8   971128436  "
      ]
     },
     "execution_count": 737,
     "metadata": {},
     "output_type": "execute_result"
    }
   ],
   "source": [
    "songs = pd.read_json(\"MasterSongList.json\")\n",
    "songs.head(3)"
   ]
  },
  {
   "cell_type": "markdown",
   "metadata": {},
   "source": [
    "## Edit the genre"
   ]
  },
  {
   "cell_type": "code",
   "execution_count": 738,
   "metadata": {},
   "outputs": [
    {
     "data": {
      "text/plain": [
       "(36733, 16)"
      ]
     },
     "execution_count": 738,
     "metadata": {},
     "output_type": "execute_result"
    }
   ],
   "source": [
    "songs['genres'] = songs['genres'].apply(''.join)\n",
    "songs.shape"
   ]
  },
  {
   "cell_type": "code",
   "execution_count": 739,
   "metadata": {},
   "outputs": [],
   "source": [
    "def split_first_genre(genre):\n",
    "    if len(genre) > 0:\n",
    "        return genre.split(':')[0]\n",
    "    else:\n",
    "        return genre\n",
    "\n",
    "songs['genres'] = songs['genres'].apply(split_first_genre)"
   ]
  },
  {
   "cell_type": "code",
   "execution_count": 740,
   "metadata": {},
   "outputs": [
    {
     "data": {
      "text/plain": [
       "(34267, 16)"
      ]
     },
     "execution_count": 740,
     "metadata": {},
     "output_type": "execute_result"
    }
   ],
   "source": [
    "popular_songs = songs[songs['yt_views'] > 1000]\n",
    "popular_songs.shape"
   ]
  },
  {
   "cell_type": "markdown",
   "metadata": {},
   "source": [
    "## Audio features"
   ]
  },
  {
   "cell_type": "code",
   "execution_count": 741,
   "metadata": {},
   "outputs": [
    {
     "data": {
      "text/html": [
       "<div>\n",
       "<style scoped>\n",
       "    .dataframe tbody tr th:only-of-type {\n",
       "        vertical-align: middle;\n",
       "    }\n",
       "\n",
       "    .dataframe tbody tr th {\n",
       "        vertical-align: top;\n",
       "    }\n",
       "\n",
       "    .dataframe thead th {\n",
       "        text-align: right;\n",
       "    }\n",
       "</style>\n",
       "<table border=\"1\" class=\"dataframe\">\n",
       "  <thead>\n",
       "    <tr style=\"text-align: right;\">\n",
       "      <th></th>\n",
       "      <th>key</th>\n",
       "      <th>energy</th>\n",
       "      <th>liveliness</th>\n",
       "      <th>tempo</th>\n",
       "      <th>speechiness</th>\n",
       "      <th>acousticness</th>\n",
       "      <th>instrumentalness</th>\n",
       "      <th>time_signature</th>\n",
       "      <th>duration</th>\n",
       "      <th>loudness</th>\n",
       "      <th>valence</th>\n",
       "      <th>danceability</th>\n",
       "      <th>mode</th>\n",
       "      <th>time_signature_confidence</th>\n",
       "      <th>tempo_confidence</th>\n",
       "      <th>key_confidence</th>\n",
       "      <th>mode_confidence</th>\n",
       "      <th>genres</th>\n",
       "    </tr>\n",
       "  </thead>\n",
       "  <tbody>\n",
       "    <tr>\n",
       "      <th>0</th>\n",
       "      <td>11.0</td>\n",
       "      <td>0.912744</td>\n",
       "      <td>0.083704</td>\n",
       "      <td>132.069</td>\n",
       "      <td>0.293137</td>\n",
       "      <td>0.005423</td>\n",
       "      <td>0.000001</td>\n",
       "      <td>0.0</td>\n",
       "      <td>4.0</td>\n",
       "      <td>218.30667</td>\n",
       "      <td>-3.890</td>\n",
       "      <td>0.752186</td>\n",
       "      <td>0.726920</td>\n",
       "      <td>0.552</td>\n",
       "      <td>0.541</td>\n",
       "      <td>1.000</td>\n",
       "      <td>1.000</td>\n",
       "      <td>pop</td>\n",
       "    </tr>\n",
       "    <tr>\n",
       "      <th>1</th>\n",
       "      <td>6.0</td>\n",
       "      <td>0.745704</td>\n",
       "      <td>0.119955</td>\n",
       "      <td>100.008</td>\n",
       "      <td>0.046255</td>\n",
       "      <td>0.026230</td>\n",
       "      <td>0.012727</td>\n",
       "      <td>1.0</td>\n",
       "      <td>4.0</td>\n",
       "      <td>235.06086</td>\n",
       "      <td>-7.687</td>\n",
       "      <td>0.351282</td>\n",
       "      <td>0.691817</td>\n",
       "      <td>0.737</td>\n",
       "      <td>0.634</td>\n",
       "      <td>0.796</td>\n",
       "      <td>1.000</td>\n",
       "      <td>pop</td>\n",
       "    </tr>\n",
       "    <tr>\n",
       "      <th>2</th>\n",
       "      <td>5.0</td>\n",
       "      <td>0.709932</td>\n",
       "      <td>0.231455</td>\n",
       "      <td>130.030</td>\n",
       "      <td>0.121741</td>\n",
       "      <td>0.036662</td>\n",
       "      <td>0.000000</td>\n",
       "      <td>0.0</td>\n",
       "      <td>4.0</td>\n",
       "      <td>232.46104</td>\n",
       "      <td>-5.150</td>\n",
       "      <td>0.374390</td>\n",
       "      <td>0.704729</td>\n",
       "      <td>0.565</td>\n",
       "      <td>0.565</td>\n",
       "      <td>0.743</td>\n",
       "      <td>1.000</td>\n",
       "      <td></td>\n",
       "    </tr>\n",
       "    <tr>\n",
       "      <th>3</th>\n",
       "      <td>3.0</td>\n",
       "      <td>0.705822</td>\n",
       "      <td>0.053292</td>\n",
       "      <td>126.009</td>\n",
       "      <td>0.126016</td>\n",
       "      <td>0.001966</td>\n",
       "      <td>0.000000</td>\n",
       "      <td>0.0</td>\n",
       "      <td>4.0</td>\n",
       "      <td>194.09333</td>\n",
       "      <td>-3.898</td>\n",
       "      <td>0.592798</td>\n",
       "      <td>0.875137</td>\n",
       "      <td>0.004</td>\n",
       "      <td>0.114</td>\n",
       "      <td>1.000</td>\n",
       "      <td>0.742</td>\n",
       "      <td>dance</td>\n",
       "    </tr>\n",
       "    <tr>\n",
       "      <th>4</th>\n",
       "      <td>3.0</td>\n",
       "      <td>0.741757</td>\n",
       "      <td>0.072774</td>\n",
       "      <td>129.985</td>\n",
       "      <td>0.051255</td>\n",
       "      <td>0.096732</td>\n",
       "      <td>0.000474</td>\n",
       "      <td>0.0</td>\n",
       "      <td>4.0</td>\n",
       "      <td>285.42667</td>\n",
       "      <td>-5.860</td>\n",
       "      <td>0.585630</td>\n",
       "      <td>0.730711</td>\n",
       "      <td>0.271</td>\n",
       "      <td>0.324</td>\n",
       "      <td>0.822</td>\n",
       "      <td>1.000</td>\n",
       "      <td>reggaeton</td>\n",
       "    </tr>\n",
       "  </tbody>\n",
       "</table>\n",
       "</div>"
      ],
      "text/plain": [
       "    key    energy  liveliness    tempo  speechiness  acousticness  \\\n",
       "0  11.0  0.912744    0.083704  132.069     0.293137      0.005423   \n",
       "1   6.0  0.745704    0.119955  100.008     0.046255      0.026230   \n",
       "2   5.0  0.709932    0.231455  130.030     0.121741      0.036662   \n",
       "3   3.0  0.705822    0.053292  126.009     0.126016      0.001966   \n",
       "4   3.0  0.741757    0.072774  129.985     0.051255      0.096732   \n",
       "\n",
       "   instrumentalness  time_signature  duration   loudness  valence  \\\n",
       "0          0.000001             0.0       4.0  218.30667   -3.890   \n",
       "1          0.012727             1.0       4.0  235.06086   -7.687   \n",
       "2          0.000000             0.0       4.0  232.46104   -5.150   \n",
       "3          0.000000             0.0       4.0  194.09333   -3.898   \n",
       "4          0.000474             0.0       4.0  285.42667   -5.860   \n",
       "\n",
       "   danceability      mode  time_signature_confidence  tempo_confidence  \\\n",
       "0      0.752186  0.726920                      0.552             0.541   \n",
       "1      0.351282  0.691817                      0.737             0.634   \n",
       "2      0.374390  0.704729                      0.565             0.565   \n",
       "3      0.592798  0.875137                      0.004             0.114   \n",
       "4      0.585630  0.730711                      0.271             0.324   \n",
       "\n",
       "   key_confidence  mode_confidence     genres  \n",
       "0           1.000            1.000        pop  \n",
       "1           0.796            1.000        pop  \n",
       "2           0.743            1.000             \n",
       "3           1.000            0.742      dance  \n",
       "4           0.822            1.000  reggaeton  "
      ]
     },
     "execution_count": 741,
     "metadata": {},
     "output_type": "execute_result"
    }
   ],
   "source": [
    "audio_features_headers = ['key', 'energy', 'liveliness', 'tempo', 'speechiness', 'acousticness', 'instrumentalness', 'time_signature', 'duration', 'loudness', 'valence', 'danceability', 'mode', 'time_signature_confidence', 'tempo_confidence', 'key_confidence', 'mode_confidence']\n",
    "audio_features_list = popular_songs['audio_features'].tolist()\n",
    "df_full_features = pd.DataFrame(audio_features_list, columns=audio_features_headers)\n",
    "df_full_features['genres'] = popular_songs['genres']\n",
    "df_full_features.head()"
   ]
  },
  {
   "cell_type": "code",
   "execution_count": 742,
   "metadata": {},
   "outputs": [
    {
     "data": {
      "text/html": [
       "<div>\n",
       "<style scoped>\n",
       "    .dataframe tbody tr th:only-of-type {\n",
       "        vertical-align: middle;\n",
       "    }\n",
       "\n",
       "    .dataframe tbody tr th {\n",
       "        vertical-align: top;\n",
       "    }\n",
       "\n",
       "    .dataframe thead th {\n",
       "        text-align: right;\n",
       "    }\n",
       "</style>\n",
       "<table border=\"1\" class=\"dataframe\">\n",
       "  <thead>\n",
       "    <tr style=\"text-align: right;\">\n",
       "      <th></th>\n",
       "      <th>key</th>\n",
       "      <th>energy</th>\n",
       "      <th>liveliness</th>\n",
       "      <th>tempo</th>\n",
       "      <th>speechiness</th>\n",
       "      <th>acousticness</th>\n",
       "      <th>instrumentalness</th>\n",
       "      <th>time_signature</th>\n",
       "      <th>duration</th>\n",
       "      <th>loudness</th>\n",
       "      <th>valence</th>\n",
       "      <th>danceability</th>\n",
       "      <th>mode</th>\n",
       "      <th>time_signature_confidence</th>\n",
       "      <th>tempo_confidence</th>\n",
       "      <th>key_confidence</th>\n",
       "      <th>mode_confidence</th>\n",
       "      <th>genres</th>\n",
       "    </tr>\n",
       "  </thead>\n",
       "  <tbody>\n",
       "    <tr>\n",
       "      <th>3</th>\n",
       "      <td>3.0</td>\n",
       "      <td>0.705822</td>\n",
       "      <td>0.053292</td>\n",
       "      <td>126.009</td>\n",
       "      <td>0.126016</td>\n",
       "      <td>0.001966</td>\n",
       "      <td>0.000000</td>\n",
       "      <td>0.0</td>\n",
       "      <td>4.0</td>\n",
       "      <td>194.09333</td>\n",
       "      <td>-3.898</td>\n",
       "      <td>0.592798</td>\n",
       "      <td>0.875137</td>\n",
       "      <td>0.004</td>\n",
       "      <td>0.114</td>\n",
       "      <td>1.000</td>\n",
       "      <td>0.742</td>\n",
       "      <td>dance</td>\n",
       "    </tr>\n",
       "    <tr>\n",
       "      <th>20</th>\n",
       "      <td>0.0</td>\n",
       "      <td>0.616411</td>\n",
       "      <td>0.171423</td>\n",
       "      <td>130.009</td>\n",
       "      <td>0.059577</td>\n",
       "      <td>0.058936</td>\n",
       "      <td>0.000065</td>\n",
       "      <td>1.0</td>\n",
       "      <td>4.0</td>\n",
       "      <td>284.41333</td>\n",
       "      <td>-7.443</td>\n",
       "      <td>0.476111</td>\n",
       "      <td>0.789760</td>\n",
       "      <td>0.499</td>\n",
       "      <td>0.489</td>\n",
       "      <td>0.708</td>\n",
       "      <td>1.000</td>\n",
       "      <td>dance</td>\n",
       "    </tr>\n",
       "    <tr>\n",
       "      <th>25</th>\n",
       "      <td>11.0</td>\n",
       "      <td>0.398953</td>\n",
       "      <td>0.170640</td>\n",
       "      <td>77.821</td>\n",
       "      <td>0.033343</td>\n",
       "      <td>0.007855</td>\n",
       "      <td>0.457147</td>\n",
       "      <td>1.0</td>\n",
       "      <td>4.0</td>\n",
       "      <td>548.03156</td>\n",
       "      <td>-19.753</td>\n",
       "      <td>0.243535</td>\n",
       "      <td>0.198917</td>\n",
       "      <td>0.901</td>\n",
       "      <td>0.676</td>\n",
       "      <td>0.362</td>\n",
       "      <td>0.996</td>\n",
       "      <td>rock</td>\n",
       "    </tr>\n",
       "    <tr>\n",
       "      <th>36</th>\n",
       "      <td>7.0</td>\n",
       "      <td>0.728367</td>\n",
       "      <td>0.844810</td>\n",
       "      <td>112.328</td>\n",
       "      <td>0.307629</td>\n",
       "      <td>0.009750</td>\n",
       "      <td>0.000022</td>\n",
       "      <td>1.0</td>\n",
       "      <td>4.0</td>\n",
       "      <td>207.15057</td>\n",
       "      <td>-14.511</td>\n",
       "      <td>0.652412</td>\n",
       "      <td>0.691151</td>\n",
       "      <td>0.844</td>\n",
       "      <td>0.384</td>\n",
       "      <td>1.000</td>\n",
       "      <td>1.000</td>\n",
       "      <td>dance</td>\n",
       "    </tr>\n",
       "    <tr>\n",
       "      <th>47</th>\n",
       "      <td>7.0</td>\n",
       "      <td>0.906388</td>\n",
       "      <td>0.130576</td>\n",
       "      <td>127.438</td>\n",
       "      <td>0.122818</td>\n",
       "      <td>0.000353</td>\n",
       "      <td>0.001200</td>\n",
       "      <td>0.0</td>\n",
       "      <td>4.0</td>\n",
       "      <td>210.42667</td>\n",
       "      <td>-5.856</td>\n",
       "      <td>0.318454</td>\n",
       "      <td>0.418888</td>\n",
       "      <td>0.407</td>\n",
       "      <td>0.602</td>\n",
       "      <td>0.603</td>\n",
       "      <td>0.889</td>\n",
       "      <td>rock</td>\n",
       "    </tr>\n",
       "  </tbody>\n",
       "</table>\n",
       "</div>"
      ],
      "text/plain": [
       "     key    energy  liveliness    tempo  speechiness  acousticness  \\\n",
       "3    3.0  0.705822    0.053292  126.009     0.126016      0.001966   \n",
       "20   0.0  0.616411    0.171423  130.009     0.059577      0.058936   \n",
       "25  11.0  0.398953    0.170640   77.821     0.033343      0.007855   \n",
       "36   7.0  0.728367    0.844810  112.328     0.307629      0.009750   \n",
       "47   7.0  0.906388    0.130576  127.438     0.122818      0.000353   \n",
       "\n",
       "    instrumentalness  time_signature  duration   loudness  valence  \\\n",
       "3           0.000000             0.0       4.0  194.09333   -3.898   \n",
       "20          0.000065             1.0       4.0  284.41333   -7.443   \n",
       "25          0.457147             1.0       4.0  548.03156  -19.753   \n",
       "36          0.000022             1.0       4.0  207.15057  -14.511   \n",
       "47          0.001200             0.0       4.0  210.42667   -5.856   \n",
       "\n",
       "    danceability      mode  time_signature_confidence  tempo_confidence  \\\n",
       "3       0.592798  0.875137                      0.004             0.114   \n",
       "20      0.476111  0.789760                      0.499             0.489   \n",
       "25      0.243535  0.198917                      0.901             0.676   \n",
       "36      0.652412  0.691151                      0.844             0.384   \n",
       "47      0.318454  0.418888                      0.407             0.602   \n",
       "\n",
       "    key_confidence  mode_confidence genres  \n",
       "3            1.000            0.742  dance  \n",
       "20           0.708            1.000  dance  \n",
       "25           0.362            0.996   rock  \n",
       "36           1.000            1.000  dance  \n",
       "47           0.603            0.889   rock  "
      ]
     },
     "execution_count": 742,
     "metadata": {},
     "output_type": "execute_result"
    }
   ],
   "source": [
    "df_features_filtered = df_full_features[(df_full_features['genres'] == 'dance') | (df_full_features['genres'] == 'jazz') | (df_full_features['genres'] == 'rock') | (df_full_features['genres'] == 'rap')]\n",
    "df_features_filtered.head()"
   ]
  },
  {
   "cell_type": "code",
   "execution_count": 743,
   "metadata": {},
   "outputs": [
    {
     "data": {
      "text/plain": [
       "rock     7174\n",
       "rap      2855\n",
       "dance    2285\n",
       "jazz     1973\n",
       "Name: genres, dtype: int64"
      ]
     },
     "execution_count": 743,
     "metadata": {},
     "output_type": "execute_result"
    }
   ],
   "source": [
    "df_features_filtered['genres'].value_counts()"
   ]
  },
  {
   "cell_type": "markdown",
   "metadata": {},
   "source": [
    "## NaN values"
   ]
  },
  {
   "cell_type": "code",
   "execution_count": 744,
   "metadata": {},
   "outputs": [],
   "source": [
    "# Let's split the dataset by genres\n",
    "\n",
    "jazz_songs = df_features_filtered[df_features_filtered['genres'] == 'jazz']\n",
    "jazz_songs.name = 'jazz_songs'\n",
    "rock_songs = df_features_filtered[df_features_filtered['genres'] == 'rock']\n",
    "rock_songs.name = 'rock_songs'\n",
    "dance_songs = df_features_filtered[df_features_filtered['genres'] == 'dance']\n",
    "dance_songs.name = 'dance_songs'\n",
    "rap_songs = df_features_filtered[df_features_filtered['genres'] == 'rap']\n",
    "rap_songs.name = 'rap_songs'"
   ]
  },
  {
   "cell_type": "code",
   "execution_count": 745,
   "metadata": {},
   "outputs": [],
   "source": [
    "def checknan(x):\n",
    "    return np.isnan(x)"
   ]
  },
  {
   "cell_type": "markdown",
   "metadata": {},
   "source": [
    "Let's check if the full row is always empty when containing NaN or if some NaN are orphans"
   ]
  },
  {
   "cell_type": "code",
   "execution_count": 746,
   "metadata": {},
   "outputs": [
    {
     "name": "stdout",
     "output_type": "stream",
     "text": [
      "key                                 5\n",
      "energy                       0.948036\n",
      "liveliness                   0.509308\n",
      "tempo                         152.047\n",
      "speechiness                       NaN\n",
      "acousticness                 0.087414\n",
      "instrumentalness             0.094004\n",
      "time_signature                      1\n",
      "duration                            4\n",
      "loudness                      791.813\n",
      "valence                        -6.355\n",
      "danceability                 0.188733\n",
      "mode                          0.20622\n",
      "time_signature_confidence           0\n",
      "tempo_confidence                 0.08\n",
      "key_confidence                      0\n",
      "mode_confidence                 0.963\n",
      "genres                           rock\n",
      "Name: 870, dtype: object\n",
      "key                                 0\n",
      "energy                       0.390561\n",
      "liveliness                   0.135333\n",
      "tempo                          77.343\n",
      "speechiness                       NaN\n",
      "acousticness                 0.385108\n",
      "instrumentalness                3e-06\n",
      "time_signature                      1\n",
      "duration                            4\n",
      "loudness                        153.2\n",
      "valence                       -10.945\n",
      "danceability                 0.774096\n",
      "mode                         0.566336\n",
      "time_signature_confidence       0.609\n",
      "tempo_confidence                0.621\n",
      "key_confidence                      0\n",
      "mode_confidence                 0.074\n",
      "genres                           rock\n",
      "Name: 5285, dtype: object\n",
      "key                                 7\n",
      "energy                       0.078746\n",
      "liveliness                   0.267538\n",
      "tempo                          70.168\n",
      "speechiness                       NaN\n",
      "acousticness                  0.98138\n",
      "instrumentalness                2e-06\n",
      "time_signature                      1\n",
      "duration                            3\n",
      "loudness                       25.051\n",
      "valence                       -15.277\n",
      "danceability                 0.444638\n",
      "mode                         0.396497\n",
      "time_signature_confidence           0\n",
      "tempo_confidence                0.223\n",
      "key_confidence                      0\n",
      "mode_confidence                     1\n",
      "genres                           jazz\n",
      "Name: 26294, dtype: object\n"
     ]
    }
   ],
   "source": [
    "rows_null = df_features_filtered.isnull().sum(axis=1)\n",
    "for index, value in enumerate(rows_null):\n",
    "    if value < 17 and value != 0:\n",
    "        print(df_features_filtered.iloc[index])"
   ]
  },
  {
   "cell_type": "markdown",
   "metadata": {},
   "source": [
    "We notice there are only 3 rows containing only 1 NaN, all the other rows containing NaN are completely empty. The orphan NaNs are only present in the 'speechiness' column. We will select this column to analyze the number NaN present in each genres dataset and decide whether we need to drop them or not."
   ]
  },
  {
   "cell_type": "markdown",
   "metadata": {},
   "source": [
    "Let's count how many lines have NaN values foreach genres dataset. Based on above analysis we will focis on the 'speechiness' column"
   ]
  },
  {
   "cell_type": "markdown",
   "metadata": {},
   "source": [
    "Since we require 1,500 rows for each genre we will drop the NaN rows whenever the number of non-empty rows is superior to 1,500. In case there are too many empty rows, we will use the median of each column to fill in the empty rows and select then randomly 1,500 rows."
   ]
  },
  {
   "cell_type": "code",
   "execution_count": 747,
   "metadata": {},
   "outputs": [],
   "source": [
    "genres_df = [jazz_songs, rock_songs, dance_songs, rap_songs]"
   ]
  },
  {
   "cell_type": "code",
   "execution_count": 748,
   "metadata": {},
   "outputs": [
    {
     "name": "stdout",
     "output_type": "stream",
     "text": [
      "jazz_songs\n",
      "False    1677\n",
      "True      296\n",
      "Name: speechiness, dtype: int64\n",
      "rock_songs\n",
      "False    6245\n",
      "True      929\n",
      "Name: speechiness, dtype: int64\n",
      "dance_songs\n",
      "False    1938\n",
      "True      347\n",
      "Name: speechiness, dtype: int64\n",
      "rap_songs\n",
      "False    2411\n",
      "True      444\n",
      "Name: speechiness, dtype: int64\n"
     ]
    }
   ],
   "source": [
    "for i in genres_df:\n",
    "    genres_nan = i['speechiness'].apply(checknan)\n",
    "    print(i.name)\n",
    "    print(genres_nan.value_counts())"
   ]
  },
  {
   "cell_type": "markdown",
   "metadata": {},
   "source": [
    "We notice all datasets have more than 1,500 non-empty rows. Let's drop the NaN rows"
   ]
  },
  {
   "cell_type": "code",
   "execution_count": 749,
   "metadata": {},
   "outputs": [
    {
     "name": "stderr",
     "output_type": "stream",
     "text": [
      "/anaconda3/lib/python3.6/site-packages/ipykernel_launcher.py:2: SettingWithCopyWarning: \n",
      "A value is trying to be set on a copy of a slice from a DataFrame\n",
      "\n",
      "See the caveats in the documentation: http://pandas.pydata.org/pandas-docs/stable/indexing.html#indexing-view-versus-copy\n",
      "  \n"
     ]
    },
    {
     "name": "stdout",
     "output_type": "stream",
     "text": [
      "jazz_songs\n",
      "(1677, 18)\n",
      "rock_songs\n",
      "(6245, 18)\n",
      "dance_songs\n",
      "(1938, 18)\n",
      "rap_songs\n",
      "(2411, 18)\n"
     ]
    }
   ],
   "source": [
    "for i in genres_df:\n",
    "    i.dropna(axis=0, how='any', inplace=True)\n",
    "    print(i.name)\n",
    "    print(i.shape)"
   ]
  },
  {
   "cell_type": "markdown",
   "metadata": {},
   "source": [
    "## Balance dataframe"
   ]
  },
  {
   "cell_type": "markdown",
   "metadata": {},
   "source": [
    "We need to select randomly 1,500 songs per genre"
   ]
  },
  {
   "cell_type": "code",
   "execution_count": 750,
   "metadata": {},
   "outputs": [
    {
     "data": {
      "text/plain": [
       "(1500, 18)"
      ]
     },
     "execution_count": 750,
     "metadata": {},
     "output_type": "execute_result"
    }
   ],
   "source": [
    "jazz_sample = jazz_songs.sample(n=1500, random_state=101)\n",
    "jazz_sample.shape"
   ]
  },
  {
   "cell_type": "code",
   "execution_count": 751,
   "metadata": {},
   "outputs": [
    {
     "data": {
      "text/plain": [
       "(1500, 18)"
      ]
     },
     "execution_count": 751,
     "metadata": {},
     "output_type": "execute_result"
    }
   ],
   "source": [
    "rock_sample = rock_songs.sample(n=1500, random_state=101)\n",
    "rock_sample.shape"
   ]
  },
  {
   "cell_type": "code",
   "execution_count": 752,
   "metadata": {},
   "outputs": [
    {
     "data": {
      "text/plain": [
       "(1500, 18)"
      ]
     },
     "execution_count": 752,
     "metadata": {},
     "output_type": "execute_result"
    }
   ],
   "source": [
    "dance_sample = dance_songs.sample(n=1500, random_state=101)\n",
    "dance_sample.shape"
   ]
  },
  {
   "cell_type": "code",
   "execution_count": 753,
   "metadata": {},
   "outputs": [
    {
     "data": {
      "text/plain": [
       "(1500, 18)"
      ]
     },
     "execution_count": 753,
     "metadata": {},
     "output_type": "execute_result"
    }
   ],
   "source": [
    "rap_sample = rap_songs.sample(n=1500, random_state=101)\n",
    "rap_sample.shape"
   ]
  },
  {
   "cell_type": "markdown",
   "metadata": {},
   "source": [
    "## Concatenate and randomize the dataframe"
   ]
  },
  {
   "cell_type": "code",
   "execution_count": 754,
   "metadata": {},
   "outputs": [
    {
     "data": {
      "text/plain": [
       "rock     1500\n",
       "jazz     1500\n",
       "rap      1500\n",
       "dance    1500\n",
       "Name: genres, dtype: int64"
      ]
     },
     "execution_count": 754,
     "metadata": {},
     "output_type": "execute_result"
    }
   ],
   "source": [
    "final_df = pd.concat([jazz_sample, rock_sample, dance_sample, rap_sample])\n",
    "final_df['genres'].value_counts()"
   ]
  },
  {
   "cell_type": "code",
   "execution_count": 755,
   "metadata": {},
   "outputs": [
    {
     "data": {
      "text/html": [
       "<div>\n",
       "<style scoped>\n",
       "    .dataframe tbody tr th:only-of-type {\n",
       "        vertical-align: middle;\n",
       "    }\n",
       "\n",
       "    .dataframe tbody tr th {\n",
       "        vertical-align: top;\n",
       "    }\n",
       "\n",
       "    .dataframe thead th {\n",
       "        text-align: right;\n",
       "    }\n",
       "</style>\n",
       "<table border=\"1\" class=\"dataframe\">\n",
       "  <thead>\n",
       "    <tr style=\"text-align: right;\">\n",
       "      <th></th>\n",
       "      <th>key</th>\n",
       "      <th>energy</th>\n",
       "      <th>liveliness</th>\n",
       "      <th>tempo</th>\n",
       "      <th>speechiness</th>\n",
       "      <th>acousticness</th>\n",
       "      <th>instrumentalness</th>\n",
       "      <th>time_signature</th>\n",
       "      <th>duration</th>\n",
       "      <th>loudness</th>\n",
       "      <th>valence</th>\n",
       "      <th>danceability</th>\n",
       "      <th>mode</th>\n",
       "      <th>time_signature_confidence</th>\n",
       "      <th>tempo_confidence</th>\n",
       "      <th>key_confidence</th>\n",
       "      <th>mode_confidence</th>\n",
       "      <th>genres</th>\n",
       "    </tr>\n",
       "  </thead>\n",
       "  <tbody>\n",
       "    <tr>\n",
       "      <th>0</th>\n",
       "      <td>8.0</td>\n",
       "      <td>0.831914</td>\n",
       "      <td>0.056928</td>\n",
       "      <td>106.245</td>\n",
       "      <td>0.232162</td>\n",
       "      <td>0.072076</td>\n",
       "      <td>0.000000</td>\n",
       "      <td>1.0</td>\n",
       "      <td>4.0</td>\n",
       "      <td>254.60000</td>\n",
       "      <td>-5.984</td>\n",
       "      <td>0.555338</td>\n",
       "      <td>0.837518</td>\n",
       "      <td>0.555</td>\n",
       "      <td>0.408</td>\n",
       "      <td>0.664</td>\n",
       "      <td>1.000</td>\n",
       "      <td>rap</td>\n",
       "    </tr>\n",
       "    <tr>\n",
       "      <th>1</th>\n",
       "      <td>7.0</td>\n",
       "      <td>0.250138</td>\n",
       "      <td>0.136842</td>\n",
       "      <td>96.105</td>\n",
       "      <td>0.028679</td>\n",
       "      <td>0.823098</td>\n",
       "      <td>0.000000</td>\n",
       "      <td>1.0</td>\n",
       "      <td>4.0</td>\n",
       "      <td>153.98667</td>\n",
       "      <td>-9.814</td>\n",
       "      <td>0.577877</td>\n",
       "      <td>0.506832</td>\n",
       "      <td>0.741</td>\n",
       "      <td>0.655</td>\n",
       "      <td>0.526</td>\n",
       "      <td>0.855</td>\n",
       "      <td>rock</td>\n",
       "    </tr>\n",
       "    <tr>\n",
       "      <th>2</th>\n",
       "      <td>8.0</td>\n",
       "      <td>0.326645</td>\n",
       "      <td>0.843938</td>\n",
       "      <td>123.949</td>\n",
       "      <td>0.492508</td>\n",
       "      <td>0.016599</td>\n",
       "      <td>0.000000</td>\n",
       "      <td>0.0</td>\n",
       "      <td>4.0</td>\n",
       "      <td>275.01714</td>\n",
       "      <td>-10.846</td>\n",
       "      <td>0.568852</td>\n",
       "      <td>0.934398</td>\n",
       "      <td>0.562</td>\n",
       "      <td>0.418</td>\n",
       "      <td>0.704</td>\n",
       "      <td>0.813</td>\n",
       "      <td>rap</td>\n",
       "    </tr>\n",
       "    <tr>\n",
       "      <th>3</th>\n",
       "      <td>7.0</td>\n",
       "      <td>0.873642</td>\n",
       "      <td>0.281888</td>\n",
       "      <td>97.940</td>\n",
       "      <td>0.041479</td>\n",
       "      <td>0.327251</td>\n",
       "      <td>0.264088</td>\n",
       "      <td>0.0</td>\n",
       "      <td>4.0</td>\n",
       "      <td>234.78857</td>\n",
       "      <td>-10.682</td>\n",
       "      <td>0.224093</td>\n",
       "      <td>0.600045</td>\n",
       "      <td>0.000</td>\n",
       "      <td>0.064</td>\n",
       "      <td>0.167</td>\n",
       "      <td>0.983</td>\n",
       "      <td>rap</td>\n",
       "    </tr>\n",
       "    <tr>\n",
       "      <th>4</th>\n",
       "      <td>6.0</td>\n",
       "      <td>0.916239</td>\n",
       "      <td>0.092331</td>\n",
       "      <td>124.731</td>\n",
       "      <td>0.046529</td>\n",
       "      <td>0.000014</td>\n",
       "      <td>0.003689</td>\n",
       "      <td>1.0</td>\n",
       "      <td>4.0</td>\n",
       "      <td>212.01333</td>\n",
       "      <td>-4.157</td>\n",
       "      <td>0.572196</td>\n",
       "      <td>0.581201</td>\n",
       "      <td>0.377</td>\n",
       "      <td>0.444</td>\n",
       "      <td>0.755</td>\n",
       "      <td>0.988</td>\n",
       "      <td>rock</td>\n",
       "    </tr>\n",
       "    <tr>\n",
       "      <th>5</th>\n",
       "      <td>2.0</td>\n",
       "      <td>0.783636</td>\n",
       "      <td>0.580456</td>\n",
       "      <td>115.402</td>\n",
       "      <td>0.189523</td>\n",
       "      <td>0.156515</td>\n",
       "      <td>0.000021</td>\n",
       "      <td>1.0</td>\n",
       "      <td>4.0</td>\n",
       "      <td>140.49333</td>\n",
       "      <td>-15.285</td>\n",
       "      <td>0.197368</td>\n",
       "      <td>0.330199</td>\n",
       "      <td>0.435</td>\n",
       "      <td>0.326</td>\n",
       "      <td>0.322</td>\n",
       "      <td>0.846</td>\n",
       "      <td>rock</td>\n",
       "    </tr>\n",
       "    <tr>\n",
       "      <th>6</th>\n",
       "      <td>2.0</td>\n",
       "      <td>0.799820</td>\n",
       "      <td>0.102666</td>\n",
       "      <td>190.142</td>\n",
       "      <td>0.053073</td>\n",
       "      <td>0.001846</td>\n",
       "      <td>0.001744</td>\n",
       "      <td>1.0</td>\n",
       "      <td>4.0</td>\n",
       "      <td>400.29333</td>\n",
       "      <td>-8.121</td>\n",
       "      <td>0.670951</td>\n",
       "      <td>0.481638</td>\n",
       "      <td>0.227</td>\n",
       "      <td>0.191</td>\n",
       "      <td>0.216</td>\n",
       "      <td>1.000</td>\n",
       "      <td>dance</td>\n",
       "    </tr>\n",
       "    <tr>\n",
       "      <th>7</th>\n",
       "      <td>10.0</td>\n",
       "      <td>0.770380</td>\n",
       "      <td>0.346163</td>\n",
       "      <td>118.058</td>\n",
       "      <td>0.142171</td>\n",
       "      <td>0.601119</td>\n",
       "      <td>0.000008</td>\n",
       "      <td>0.0</td>\n",
       "      <td>4.0</td>\n",
       "      <td>156.46667</td>\n",
       "      <td>-6.388</td>\n",
       "      <td>0.741407</td>\n",
       "      <td>0.881608</td>\n",
       "      <td>0.159</td>\n",
       "      <td>0.295</td>\n",
       "      <td>0.088</td>\n",
       "      <td>1.000</td>\n",
       "      <td>dance</td>\n",
       "    </tr>\n",
       "    <tr>\n",
       "      <th>8</th>\n",
       "      <td>1.0</td>\n",
       "      <td>0.859680</td>\n",
       "      <td>0.205867</td>\n",
       "      <td>126.032</td>\n",
       "      <td>0.034965</td>\n",
       "      <td>0.080888</td>\n",
       "      <td>0.867131</td>\n",
       "      <td>0.0</td>\n",
       "      <td>4.0</td>\n",
       "      <td>201.30399</td>\n",
       "      <td>-7.121</td>\n",
       "      <td>0.493057</td>\n",
       "      <td>0.603445</td>\n",
       "      <td>0.124</td>\n",
       "      <td>0.399</td>\n",
       "      <td>0.950</td>\n",
       "      <td>0.773</td>\n",
       "      <td>dance</td>\n",
       "    </tr>\n",
       "    <tr>\n",
       "      <th>9</th>\n",
       "      <td>9.0</td>\n",
       "      <td>0.712624</td>\n",
       "      <td>0.105198</td>\n",
       "      <td>98.025</td>\n",
       "      <td>0.043380</td>\n",
       "      <td>0.002306</td>\n",
       "      <td>0.851865</td>\n",
       "      <td>0.0</td>\n",
       "      <td>4.0</td>\n",
       "      <td>461.33333</td>\n",
       "      <td>-7.881</td>\n",
       "      <td>0.278169</td>\n",
       "      <td>0.530937</td>\n",
       "      <td>0.336</td>\n",
       "      <td>0.355</td>\n",
       "      <td>0.034</td>\n",
       "      <td>1.000</td>\n",
       "      <td>dance</td>\n",
       "    </tr>\n",
       "  </tbody>\n",
       "</table>\n",
       "</div>"
      ],
      "text/plain": [
       "    key    energy  liveliness    tempo  speechiness  acousticness  \\\n",
       "0   8.0  0.831914    0.056928  106.245     0.232162      0.072076   \n",
       "1   7.0  0.250138    0.136842   96.105     0.028679      0.823098   \n",
       "2   8.0  0.326645    0.843938  123.949     0.492508      0.016599   \n",
       "3   7.0  0.873642    0.281888   97.940     0.041479      0.327251   \n",
       "4   6.0  0.916239    0.092331  124.731     0.046529      0.000014   \n",
       "5   2.0  0.783636    0.580456  115.402     0.189523      0.156515   \n",
       "6   2.0  0.799820    0.102666  190.142     0.053073      0.001846   \n",
       "7  10.0  0.770380    0.346163  118.058     0.142171      0.601119   \n",
       "8   1.0  0.859680    0.205867  126.032     0.034965      0.080888   \n",
       "9   9.0  0.712624    0.105198   98.025     0.043380      0.002306   \n",
       "\n",
       "   instrumentalness  time_signature  duration   loudness  valence  \\\n",
       "0          0.000000             1.0       4.0  254.60000   -5.984   \n",
       "1          0.000000             1.0       4.0  153.98667   -9.814   \n",
       "2          0.000000             0.0       4.0  275.01714  -10.846   \n",
       "3          0.264088             0.0       4.0  234.78857  -10.682   \n",
       "4          0.003689             1.0       4.0  212.01333   -4.157   \n",
       "5          0.000021             1.0       4.0  140.49333  -15.285   \n",
       "6          0.001744             1.0       4.0  400.29333   -8.121   \n",
       "7          0.000008             0.0       4.0  156.46667   -6.388   \n",
       "8          0.867131             0.0       4.0  201.30399   -7.121   \n",
       "9          0.851865             0.0       4.0  461.33333   -7.881   \n",
       "\n",
       "   danceability      mode  time_signature_confidence  tempo_confidence  \\\n",
       "0      0.555338  0.837518                      0.555             0.408   \n",
       "1      0.577877  0.506832                      0.741             0.655   \n",
       "2      0.568852  0.934398                      0.562             0.418   \n",
       "3      0.224093  0.600045                      0.000             0.064   \n",
       "4      0.572196  0.581201                      0.377             0.444   \n",
       "5      0.197368  0.330199                      0.435             0.326   \n",
       "6      0.670951  0.481638                      0.227             0.191   \n",
       "7      0.741407  0.881608                      0.159             0.295   \n",
       "8      0.493057  0.603445                      0.124             0.399   \n",
       "9      0.278169  0.530937                      0.336             0.355   \n",
       "\n",
       "   key_confidence  mode_confidence genres  \n",
       "0           0.664            1.000    rap  \n",
       "1           0.526            0.855   rock  \n",
       "2           0.704            0.813    rap  \n",
       "3           0.167            0.983    rap  \n",
       "4           0.755            0.988   rock  \n",
       "5           0.322            0.846   rock  \n",
       "6           0.216            1.000  dance  \n",
       "7           0.088            1.000  dance  \n",
       "8           0.950            0.773  dance  \n",
       "9           0.034            1.000  dance  "
      ]
     },
     "execution_count": 755,
     "metadata": {},
     "output_type": "execute_result"
    }
   ],
   "source": [
    "final_df = final_df.sample(frac=1, random_state=101).reset_index(drop=True)\n",
    "final_df.head(10)"
   ]
  },
  {
   "cell_type": "markdown",
   "metadata": {},
   "source": [
    "# Logistic Regression"
   ]
  },
  {
   "cell_type": "markdown",
   "metadata": {},
   "source": [
    "## LR original"
   ]
  },
  {
   "cell_type": "code",
   "execution_count": 756,
   "metadata": {},
   "outputs": [],
   "source": [
    "from sklearn.linear_model import LogisticRegression"
   ]
  },
  {
   "cell_type": "code",
   "execution_count": 757,
   "metadata": {},
   "outputs": [],
   "source": [
    "lr_original = LogisticRegression(solver='saga', multi_class='multinomial')"
   ]
  },
  {
   "cell_type": "code",
   "execution_count": 758,
   "metadata": {},
   "outputs": [],
   "source": [
    "final_features = final_df.drop('genres', axis=1)\n",
    "final_labels = final_df['genres']"
   ]
  },
  {
   "cell_type": "code",
   "execution_count": 759,
   "metadata": {},
   "outputs": [],
   "source": [
    "from sklearn.preprocessing import StandardScaler\n",
    "standard_scaler = StandardScaler()\n",
    "final_features_scaled = standard_scaler.fit_transform(final_features)"
   ]
  },
  {
   "cell_type": "code",
   "execution_count": 760,
   "metadata": {},
   "outputs": [],
   "source": [
    "from sklearn.model_selection import train_test_split\n",
    "X = final_features_scaled\n",
    "y = final_labels\n",
    "\n",
    "X_train, X_test, y_train, y_test = train_test_split(X, y, test_size=0.3, random_state=101)"
   ]
  },
  {
   "cell_type": "code",
   "execution_count": 761,
   "metadata": {},
   "outputs": [],
   "source": [
    "lr_original.fit(X_train, y_train)\n",
    "lr_predictions = lr_original.predict(X_test)"
   ]
  },
  {
   "cell_type": "code",
   "execution_count": 762,
   "metadata": {},
   "outputs": [
    {
     "name": "stdout",
     "output_type": "stream",
     "text": [
      "[[322  12  67  48]\n",
      " [ 13 404   5  45]\n",
      " [ 68  19 338  24]\n",
      " [ 47  54  14 320]]\n",
      "             precision    recall  f1-score   support\n",
      "\n",
      "      dance       0.72      0.72      0.72       449\n",
      "       jazz       0.83      0.87      0.85       467\n",
      "        rap       0.80      0.75      0.77       449\n",
      "       rock       0.73      0.74      0.73       435\n",
      "\n",
      "avg / total       0.77      0.77      0.77      1800\n",
      "\n"
     ]
    }
   ],
   "source": [
    "from sklearn.metrics import confusion_matrix, classification_report\n",
    "print(confusion_matrix(y_test, lr_predictions))\n",
    "print(classification_report(list(y_test), list(lr_predictions)))"
   ]
  },
  {
   "cell_type": "markdown",
   "metadata": {},
   "source": [
    "## LR GridSearchCV"
   ]
  },
  {
   "cell_type": "code",
   "execution_count": 763,
   "metadata": {},
   "outputs": [],
   "source": [
    "from sklearn.model_selection import GridSearchCV\n",
    "param_grid = {'solver': ['newton-cg', 'sag', 'saga', 'lbfgs'], 'multi_class':['ovr', 'multinomial']}"
   ]
  },
  {
   "cell_type": "code",
   "execution_count": 764,
   "metadata": {},
   "outputs": [
    {
     "name": "stdout",
     "output_type": "stream",
     "text": [
      "Fitting 3 folds for each of 8 candidates, totalling 24 fits\n",
      "[CV] multi_class=ovr, solver=newton-cg ...............................\n",
      "[CV]  multi_class=ovr, solver=newton-cg, score=0.7574893009985735, total=   0.1s\n",
      "[CV] multi_class=ovr, solver=newton-cg ...............................\n",
      "[CV]  multi_class=ovr, solver=newton-cg, score=0.7555396711937098, total=   0.2s\n",
      "[CV] multi_class=ovr, solver=newton-cg ...............................\n"
     ]
    },
    {
     "name": "stderr",
     "output_type": "stream",
     "text": [
      "[Parallel(n_jobs=1)]: Done   1 out of   1 | elapsed:    0.2s remaining:    0.0s\n",
      "[Parallel(n_jobs=1)]: Done   2 out of   2 | elapsed:    0.3s remaining:    0.0s\n"
     ]
    },
    {
     "name": "stdout",
     "output_type": "stream",
     "text": [
      "[CV]  multi_class=ovr, solver=newton-cg, score=0.771265189421015, total=   0.1s\n",
      "[CV] multi_class=ovr, solver=sag .....................................\n",
      "[CV]  multi_class=ovr, solver=sag, score=0.7574893009985735, total=   0.3s\n",
      "[CV] multi_class=ovr, solver=sag .....................................\n",
      "[CV]  multi_class=ovr, solver=sag, score=0.7555396711937098, total=   0.3s\n",
      "[CV] multi_class=ovr, solver=sag .....................................\n",
      "[CV]  multi_class=ovr, solver=sag, score=0.771265189421015, total=   0.2s\n",
      "[CV] multi_class=ovr, solver=saga ....................................\n"
     ]
    },
    {
     "name": "stderr",
     "output_type": "stream",
     "text": [
      "/anaconda3/lib/python3.6/site-packages/sklearn/linear_model/sag.py:326: ConvergenceWarning: The max_iter was reached which means the coef_ did not converge\n",
      "  \"the coef_ did not converge\", ConvergenceWarning)\n"
     ]
    },
    {
     "name": "stdout",
     "output_type": "stream",
     "text": [
      "[CV]  multi_class=ovr, solver=saga, score=0.7574893009985735, total=   0.6s\n",
      "[CV] multi_class=ovr, solver=saga ....................................\n",
      "[CV]  multi_class=ovr, solver=saga, score=0.7555396711937098, total=   0.5s\n",
      "[CV] multi_class=ovr, solver=saga ....................................\n",
      "[CV]  multi_class=ovr, solver=saga, score=0.771265189421015, total=   0.1s\n",
      "[CV] multi_class=ovr, solver=lbfgs ...................................\n",
      "[CV]  multi_class=ovr, solver=lbfgs, score=0.7574893009985735, total=   0.1s\n",
      "[CV] multi_class=ovr, solver=lbfgs ...................................\n",
      "[CV]  multi_class=ovr, solver=lbfgs, score=0.7555396711937098, total=   0.1s\n",
      "[CV] multi_class=ovr, solver=lbfgs ...................................\n",
      "[CV]  multi_class=ovr, solver=lbfgs, score=0.771265189421015, total=   0.1s\n",
      "[CV] multi_class=multinomial, solver=newton-cg .......................\n",
      "[CV]  multi_class=multinomial, solver=newton-cg, score=0.760342368045649, total=   0.2s\n",
      "[CV] multi_class=multinomial, solver=newton-cg .......................\n",
      "[CV]  multi_class=multinomial, solver=newton-cg, score=0.7598284488920658, total=   0.2s\n",
      "[CV] multi_class=multinomial, solver=newton-cg .......................\n",
      "[CV]  multi_class=multinomial, solver=newton-cg, score=0.7655468191565404, total=   0.2s\n",
      "[CV] multi_class=multinomial, solver=sag .............................\n",
      "[CV]  multi_class=multinomial, solver=sag, score=0.760342368045649, total=   0.2s\n",
      "[CV] multi_class=multinomial, solver=sag .............................\n",
      "[CV]  multi_class=multinomial, solver=sag, score=0.7598284488920658, total=   0.2s\n",
      "[CV] multi_class=multinomial, solver=sag .............................\n",
      "[CV]  multi_class=multinomial, solver=sag, score=0.7655468191565404, total=   0.1s\n",
      "[CV] multi_class=multinomial, solver=saga ............................\n",
      "[CV]  multi_class=multinomial, solver=saga, score=0.760342368045649, total=   0.4s\n",
      "[CV] multi_class=multinomial, solver=saga ............................\n",
      "[CV]  multi_class=multinomial, solver=saga, score=0.7598284488920658, total=   0.3s\n",
      "[CV] multi_class=multinomial, solver=saga ............................\n",
      "[CV]  multi_class=multinomial, solver=saga, score=0.7655468191565404, total=   0.1s\n",
      "[CV] multi_class=multinomial, solver=lbfgs ...........................\n",
      "[CV]  multi_class=multinomial, solver=lbfgs, score=0.760342368045649, total=   0.1s\n",
      "[CV] multi_class=multinomial, solver=lbfgs ...........................\n",
      "[CV]  multi_class=multinomial, solver=lbfgs, score=0.7598284488920658, total=   0.1s\n",
      "[CV] multi_class=multinomial, solver=lbfgs ...........................\n",
      "[CV]  multi_class=multinomial, solver=lbfgs, score=0.7655468191565404, total=   0.1s\n"
     ]
    },
    {
     "name": "stderr",
     "output_type": "stream",
     "text": [
      "[Parallel(n_jobs=1)]: Done  24 out of  24 | elapsed:    4.9s finished\n"
     ]
    },
    {
     "data": {
      "text/plain": [
       "GridSearchCV(cv=None, error_score='raise',\n",
       "       estimator=LogisticRegression(C=1.0, class_weight=None, dual=False, fit_intercept=True,\n",
       "          intercept_scaling=1, max_iter=100, multi_class='multinomial',\n",
       "          n_jobs=1, penalty='l2', random_state=None, solver='saga',\n",
       "          tol=0.0001, verbose=0, warm_start=False),\n",
       "       fit_params=None, iid=True, n_jobs=1,\n",
       "       param_grid={'solver': ['newton-cg', 'sag', 'saga', 'lbfgs'], 'multi_class': ['ovr', 'multinomial']},\n",
       "       pre_dispatch='2*n_jobs', refit=True, return_train_score='warn',\n",
       "       scoring=None, verbose=3)"
      ]
     },
     "execution_count": 764,
     "metadata": {},
     "output_type": "execute_result"
    }
   ],
   "source": [
    "grid = GridSearchCV(lr_original, param_grid, verbose=3)\n",
    "grid.fit(X_train, y_train)"
   ]
  },
  {
   "cell_type": "code",
   "execution_count": 765,
   "metadata": {},
   "outputs": [
    {
     "data": {
      "text/plain": [
       "{'multi_class': 'multinomial', 'solver': 'newton-cg'}"
      ]
     },
     "execution_count": 765,
     "metadata": {},
     "output_type": "execute_result"
    }
   ],
   "source": [
    "grid.best_params_"
   ]
  },
  {
   "cell_type": "markdown",
   "metadata": {},
   "source": [
    "## LR best "
   ]
  },
  {
   "cell_type": "code",
   "execution_count": 766,
   "metadata": {},
   "outputs": [
    {
     "name": "stdout",
     "output_type": "stream",
     "text": [
      "[[322  12  67  48]\n",
      " [ 13 404   5  45]\n",
      " [ 68  19 338  24]\n",
      " [ 47  54  14 320]]\n",
      "             precision    recall  f1-score   support\n",
      "\n",
      "      dance       0.72      0.72      0.72       449\n",
      "       jazz       0.83      0.87      0.85       467\n",
      "        rap       0.80      0.75      0.77       449\n",
      "       rock       0.73      0.74      0.73       435\n",
      "\n",
      "avg / total       0.77      0.77      0.77      1800\n",
      "\n"
     ]
    }
   ],
   "source": [
    "lr_best = LogisticRegression(solver='newton-cg', multi_class='multinomial')\n",
    "lr_best.fit(X_train, y_train)\n",
    "lr_predictions2 = lr_best.predict(X_test)\n",
    "print(confusion_matrix(y_test, lr_predictions2))\n",
    "print(classification_report(list(y_test), list(lr_predictions2)))"
   ]
  },
  {
   "cell_type": "markdown",
   "metadata": {},
   "source": [
    "We notice that we get the exact same results by changing solver parameter in our logistic regression model. Looks like this parameter has only little influence for this data"
   ]
  },
  {
   "cell_type": "markdown",
   "metadata": {},
   "source": [
    "## LR SelectFromModel"
   ]
  },
  {
   "cell_type": "code",
   "execution_count": 767,
   "metadata": {},
   "outputs": [],
   "source": [
    "from sklearn.feature_selection import SelectFromModel"
   ]
  },
  {
   "cell_type": "code",
   "execution_count": 768,
   "metadata": {},
   "outputs": [],
   "source": [
    "lr_sfm = SelectFromModel(lr_best, prefit=True)\n",
    "X_train_new = lr_sfm.transform(X_train)"
   ]
  },
  {
   "cell_type": "code",
   "execution_count": 769,
   "metadata": {},
   "outputs": [
    {
     "data": {
      "text/plain": [
       "(4200, 6)"
      ]
     },
     "execution_count": 769,
     "metadata": {},
     "output_type": "execute_result"
    }
   ],
   "source": [
    "X_train_new.shape"
   ]
  },
  {
   "cell_type": "markdown",
   "metadata": {},
   "source": [
    "Only 6 features selected"
   ]
  },
  {
   "cell_type": "code",
   "execution_count": 770,
   "metadata": {},
   "outputs": [
    {
     "data": {
      "text/plain": [
       "(1800, 6)"
      ]
     },
     "execution_count": 770,
     "metadata": {},
     "output_type": "execute_result"
    }
   ],
   "source": [
    "X_test_new = lr_sfm.transform(X_test)\n",
    "X_test_new.shape"
   ]
  },
  {
   "cell_type": "code",
   "execution_count": 771,
   "metadata": {},
   "outputs": [
    {
     "name": "stdout",
     "output_type": "stream",
     "text": [
      "Index(['energy', 'speechiness', 'acousticness', 'danceability', 'mode',\n",
      "       'key_confidence'],\n",
      "      dtype='object')\n"
     ]
    }
   ],
   "source": [
    "X_test_new_index = lr_sfm.get_support()\n",
    "X_test_new_name = final_features.columns[X_test_new_index]\n",
    "print(X_test_new_name)"
   ]
  },
  {
   "cell_type": "code",
   "execution_count": 772,
   "metadata": {},
   "outputs": [
    {
     "name": "stdout",
     "output_type": "stream",
     "text": [
      "[[314   9  70  56]\n",
      " [ 11 393   6  57]\n",
      " [ 88  19 308  34]\n",
      " [ 62  60  15 298]]\n",
      "             precision    recall  f1-score   support\n",
      "\n",
      "      dance       0.66      0.70      0.68       449\n",
      "       jazz       0.82      0.84      0.83       467\n",
      "        rap       0.77      0.69      0.73       449\n",
      "       rock       0.67      0.69      0.68       435\n",
      "\n",
      "avg / total       0.73      0.73      0.73      1800\n",
      "\n"
     ]
    }
   ],
   "source": [
    "lr_opti = LogisticRegression(solver='newton-cg', multi_class='multinomial')\n",
    "lr_opti.fit(X_train_new, y_train)\n",
    "lr_predictions3 = lr_opti.predict(X_test_new)\n",
    "print(confusion_matrix(y_test, lr_predictions3))\n",
    "print(classification_report(list(y_test), list(lr_predictions3)))"
   ]
  },
  {
   "cell_type": "markdown",
   "metadata": {},
   "source": [
    "We can notice the accuracy score decreased after feature selection compared to the previous runs. Problably need to add a threshold. Let's try with the median"
   ]
  },
  {
   "cell_type": "code",
   "execution_count": 773,
   "metadata": {},
   "outputs": [
    {
     "data": {
      "text/plain": [
       "(4200, 9)"
      ]
     },
     "execution_count": 773,
     "metadata": {},
     "output_type": "execute_result"
    }
   ],
   "source": [
    "lr_sfm = SelectFromModel(lr_best, threshold='median', prefit=True)\n",
    "X_train_new2 = lr_sfm.transform(X_train)\n",
    "X_train_new2.shape"
   ]
  },
  {
   "cell_type": "code",
   "execution_count": 774,
   "metadata": {},
   "outputs": [
    {
     "data": {
      "text/plain": [
       "(1800, 9)"
      ]
     },
     "execution_count": 774,
     "metadata": {},
     "output_type": "execute_result"
    }
   ],
   "source": [
    "X_test_new2 = lr_sfm.transform(X_test)\n",
    "X_test_new2.shape"
   ]
  },
  {
   "cell_type": "markdown",
   "metadata": {},
   "source": [
    "We notice that by adding the median threshold the model selected more features"
   ]
  },
  {
   "cell_type": "code",
   "execution_count": 775,
   "metadata": {},
   "outputs": [
    {
     "name": "stdout",
     "output_type": "stream",
     "text": [
      "Index(['energy', 'speechiness', 'acousticness', 'instrumentalness', 'loudness',\n",
      "       'valence', 'danceability', 'mode', 'key_confidence'],\n",
      "      dtype='object')\n"
     ]
    }
   ],
   "source": [
    "X_test_new_index2 = lr_sfm.get_support()\n",
    "X_test_new_name2 = final_features.columns[X_test_new_index2]\n",
    "print(X_test_new_name2)"
   ]
  },
  {
   "cell_type": "code",
   "execution_count": 776,
   "metadata": {},
   "outputs": [
    {
     "name": "stdout",
     "output_type": "stream",
     "text": [
      "[[314  10  68  57]\n",
      " [ 18 392   4  53]\n",
      " [ 70  18 325  36]\n",
      " [ 44  57  14 320]]\n",
      "             precision    recall  f1-score   support\n",
      "\n",
      "      dance       0.70      0.70      0.70       449\n",
      "       jazz       0.82      0.84      0.83       467\n",
      "        rap       0.79      0.72      0.76       449\n",
      "       rock       0.69      0.74      0.71       435\n",
      "\n",
      "avg / total       0.75      0.75      0.75      1800\n",
      "\n"
     ]
    }
   ],
   "source": [
    "lr_opti2 = LogisticRegression(solver='newton-cg', multi_class='multinomial')\n",
    "lr_opti2.fit(X_train_new2, y_train)\n",
    "lr_predictions4 = lr_opti2.predict(X_test_new2)\n",
    "print(confusion_matrix(y_test, lr_predictions4))\n",
    "print(classification_report(list(y_test), list(lr_predictions4)))"
   ]
  },
  {
   "cell_type": "markdown",
   "metadata": {},
   "source": [
    "The score is slightly higher than previously although still lower than the model including all features. However we now have around half the number of initial features, meaning a lower computation time"
   ]
  },
  {
   "cell_type": "markdown",
   "metadata": {},
   "source": [
    "## LR RFE"
   ]
  },
  {
   "cell_type": "code",
   "execution_count": 777,
   "metadata": {},
   "outputs": [],
   "source": [
    "from sklearn.feature_selection import RFE"
   ]
  },
  {
   "cell_type": "code",
   "execution_count": 778,
   "metadata": {},
   "outputs": [],
   "source": [
    "lr_rfe = LogisticRegression(solver='newton-cg', multi_class='multinomial')\n",
    "rfe_model = RFE(lr_rfe, 9)"
   ]
  },
  {
   "cell_type": "code",
   "execution_count": 779,
   "metadata": {},
   "outputs": [],
   "source": [
    "rfe_model = rfe_model.fit(X_train, y_train)"
   ]
  },
  {
   "cell_type": "code",
   "execution_count": 780,
   "metadata": {},
   "outputs": [
    {
     "name": "stdout",
     "output_type": "stream",
     "text": [
      "[False  True False False  True  True  True False False  True  True  True\n",
      "  True False False  True False]\n",
      "[8 1 9 4 1 1 1 2 5 1 1 1 1 7 3 1 6]\n"
     ]
    }
   ],
   "source": [
    "print(rfe_model.support_)\n",
    "print(rfe_model.ranking_)"
   ]
  },
  {
   "cell_type": "code",
   "execution_count": 781,
   "metadata": {},
   "outputs": [
    {
     "name": "stdout",
     "output_type": "stream",
     "text": [
      "Index(['energy', 'speechiness', 'acousticness', 'instrumentalness', 'loudness',\n",
      "       'valence', 'danceability', 'mode', 'key_confidence'],\n",
      "      dtype='object')\n"
     ]
    }
   ],
   "source": [
    "selected_features = final_features.columns[rfe_model.support_]\n",
    "print(selected_features)"
   ]
  },
  {
   "cell_type": "markdown",
   "metadata": {},
   "source": [
    "We notice the selected features are the sames as used in SelectFromModel with median threshold"
   ]
  },
  {
   "cell_type": "code",
   "execution_count": 782,
   "metadata": {},
   "outputs": [],
   "source": [
    "rfe_predictions = rfe_model.predict(X_test)"
   ]
  },
  {
   "cell_type": "code",
   "execution_count": 783,
   "metadata": {},
   "outputs": [
    {
     "name": "stdout",
     "output_type": "stream",
     "text": [
      "[[314  10  68  57]\n",
      " [ 18 392   4  53]\n",
      " [ 70  18 325  36]\n",
      " [ 44  57  14 320]]\n",
      "             precision    recall  f1-score   support\n",
      "\n",
      "      dance       0.70      0.70      0.70       449\n",
      "       jazz       0.82      0.84      0.83       467\n",
      "        rap       0.79      0.72      0.76       449\n",
      "       rock       0.69      0.74      0.71       435\n",
      "\n",
      "avg / total       0.75      0.75      0.75      1800\n",
      "\n"
     ]
    }
   ],
   "source": [
    "print(confusion_matrix(y_test, rfe_predictions))\n",
    "print(classification_report(list(y_test), list(rfe_predictions)))"
   ]
  },
  {
   "cell_type": "markdown",
   "metadata": {},
   "source": [
    "We found the exact same results as in SelectFromModel with the median threshold. Let's also compare with only 6 features (same as SelectFromModel without the median threshold)"
   ]
  },
  {
   "cell_type": "code",
   "execution_count": 784,
   "metadata": {},
   "outputs": [],
   "source": [
    "lr_rfe = LogisticRegression(solver='newton-cg', multi_class='multinomial')\n",
    "rfe_model2 = RFE(lr_rfe, 6)\n",
    "rfe_model2 = rfe_model.fit(X_train, y_train)"
   ]
  },
  {
   "cell_type": "code",
   "execution_count": 785,
   "metadata": {},
   "outputs": [
    {
     "name": "stdout",
     "output_type": "stream",
     "text": [
      "[False  True False False  True  True  True False False  True  True  True\n",
      "  True False False  True False]\n",
      "[8 1 9 4 1 1 1 2 5 1 1 1 1 7 3 1 6]\n"
     ]
    }
   ],
   "source": [
    "print(rfe_model2.support_)\n",
    "print(rfe_model2.ranking_)"
   ]
  },
  {
   "cell_type": "code",
   "execution_count": 786,
   "metadata": {},
   "outputs": [
    {
     "name": "stdout",
     "output_type": "stream",
     "text": [
      "Index(['energy', 'speechiness', 'acousticness', 'instrumentalness', 'loudness',\n",
      "       'valence', 'danceability', 'mode', 'key_confidence'],\n",
      "      dtype='object')\n"
     ]
    }
   ],
   "source": [
    "selected_features2 = final_features.columns[rfe_model2.support_]\n",
    "print(selected_features2)"
   ]
  },
  {
   "cell_type": "markdown",
   "metadata": {},
   "source": [
    "Once again, same features as in SelectFromModel"
   ]
  },
  {
   "cell_type": "code",
   "execution_count": 787,
   "metadata": {},
   "outputs": [],
   "source": [
    "rfe_predictions2 = rfe_model2.predict(X_test)"
   ]
  },
  {
   "cell_type": "code",
   "execution_count": 788,
   "metadata": {},
   "outputs": [
    {
     "name": "stdout",
     "output_type": "stream",
     "text": [
      "[[314  10  68  57]\n",
      " [ 18 392   4  53]\n",
      " [ 70  18 325  36]\n",
      " [ 44  57  14 320]]\n",
      "             precision    recall  f1-score   support\n",
      "\n",
      "      dance       0.70      0.70      0.70       449\n",
      "       jazz       0.82      0.84      0.83       467\n",
      "        rap       0.79      0.72      0.76       449\n",
      "       rock       0.69      0.74      0.71       435\n",
      "\n",
      "avg / total       0.75      0.75      0.75      1800\n",
      "\n"
     ]
    }
   ],
   "source": [
    "print(confusion_matrix(y_test, rfe_predictions2))\n",
    "print(classification_report(list(y_test), list(rfe_predictions2)))"
   ]
  },
  {
   "cell_type": "markdown",
   "metadata": {},
   "source": [
    "Let's continue the study with Support Vector Machine"
   ]
  },
  {
   "cell_type": "markdown",
   "metadata": {},
   "source": [
    "# Support Vector Machine"
   ]
  },
  {
   "cell_type": "markdown",
   "metadata": {},
   "source": [
    "## SVC original"
   ]
  },
  {
   "cell_type": "code",
   "execution_count": 789,
   "metadata": {},
   "outputs": [],
   "source": [
    "from sklearn.svm import SVC\n",
    "svc_original = SVC(C=1, gamma=1)"
   ]
  },
  {
   "cell_type": "code",
   "execution_count": 790,
   "metadata": {},
   "outputs": [],
   "source": [
    "svc_original.fit(X_train, y_train)\n",
    "svc_predictions = svc_original.predict(X_test)"
   ]
  },
  {
   "cell_type": "code",
   "execution_count": 791,
   "metadata": {},
   "outputs": [
    {
     "name": "stdout",
     "output_type": "stream",
     "text": [
      "[[194 147  50  58]\n",
      " [  5 437   4  21]\n",
      " [ 25 164 231  29]\n",
      " [ 27 208   8 192]]\n",
      "             precision    recall  f1-score   support\n",
      "\n",
      "      dance       0.77      0.43      0.55       449\n",
      "       jazz       0.46      0.94      0.61       467\n",
      "        rap       0.79      0.51      0.62       449\n",
      "       rock       0.64      0.44      0.52       435\n",
      "\n",
      "avg / total       0.66      0.59      0.58      1800\n",
      "\n"
     ]
    }
   ],
   "source": [
    "print(confusion_matrix(y_test, svc_predictions))\n",
    "print(classification_report(list(y_test), list(svc_predictions)))"
   ]
  },
  {
   "cell_type": "markdown",
   "metadata": {},
   "source": [
    "## SVC GridSearchCV"
   ]
  },
  {
   "cell_type": "code",
   "execution_count": 792,
   "metadata": {},
   "outputs": [],
   "source": [
    "param_grid = {'C': [0.1,1, 10], 'gamma': [1,0.1,0.01,0.001]}"
   ]
  },
  {
   "cell_type": "code",
   "execution_count": 793,
   "metadata": {},
   "outputs": [
    {
     "name": "stdout",
     "output_type": "stream",
     "text": [
      "Fitting 3 folds for each of 12 candidates, totalling 36 fits\n",
      "[CV] C=0.1, gamma=1 ..................................................\n",
      "[CV] ........ C=0.1, gamma=1, score=0.25320970042796004, total=   0.9s\n",
      "[CV] C=0.1, gamma=1 ..................................................\n"
     ]
    },
    {
     "name": "stderr",
     "output_type": "stream",
     "text": [
      "[Parallel(n_jobs=1)]: Done   1 out of   1 | elapsed:    1.3s remaining:    0.0s\n"
     ]
    },
    {
     "name": "stdout",
     "output_type": "stream",
     "text": [
      "[CV] ......... C=0.1, gamma=1, score=0.2537526804860615, total=   0.9s\n",
      "[CV] C=0.1, gamma=1 ..................................................\n"
     ]
    },
    {
     "name": "stderr",
     "output_type": "stream",
     "text": [
      "[Parallel(n_jobs=1)]: Done   2 out of   2 | elapsed:    2.5s remaining:    0.0s\n"
     ]
    },
    {
     "name": "stdout",
     "output_type": "stream",
     "text": [
      "[CV] ......... C=0.1, gamma=1, score=0.2537526804860615, total=   0.7s\n",
      "[CV] C=0.1, gamma=0.1 ................................................\n",
      "[CV] ....... C=0.1, gamma=0.1, score=0.7510699001426534, total=   0.5s\n",
      "[CV] C=0.1, gamma=0.1 ................................................\n",
      "[CV] ....... C=0.1, gamma=0.1, score=0.7455325232308792, total=   0.6s\n",
      "[CV] C=0.1, gamma=0.1 ................................................\n",
      "[CV] ....... C=0.1, gamma=0.1, score=0.7562544674767692, total=   0.6s\n",
      "[CV] C=0.1, gamma=0.01 ...............................................\n",
      "[CV] ...... C=0.1, gamma=0.01, score=0.7560627674750356, total=   0.5s\n",
      "[CV] C=0.1, gamma=0.01 ...............................................\n",
      "[CV] ...... C=0.1, gamma=0.01, score=0.7455325232308792, total=   0.4s\n",
      "[CV] C=0.1, gamma=0.01 ...............................................\n",
      "[CV] ...... C=0.1, gamma=0.01, score=0.7605432451751251, total=   0.6s\n",
      "[CV] C=0.1, gamma=0.001 ..............................................\n",
      "[CV] ..... C=0.1, gamma=0.001, score=0.6897289586305279, total=   0.7s\n",
      "[CV] C=0.1, gamma=0.001 ..............................................\n",
      "[CV] ..... C=0.1, gamma=0.001, score=0.6583273766976412, total=   0.9s\n",
      "[CV] C=0.1, gamma=0.001 ..............................................\n",
      "[CV] ..... C=0.1, gamma=0.001, score=0.6697641172265905, total=   0.9s\n",
      "[CV] C=1, gamma=1 ....................................................\n",
      "[CV] ............ C=1, gamma=1, score=0.572039942938659, total=   1.2s\n",
      "[CV] C=1, gamma=1 ....................................................\n",
      "[CV] ........... C=1, gamma=1, score=0.5997140814867763, total=   0.9s\n",
      "[CV] C=1, gamma=1 ....................................................\n",
      "[CV] ........... C=1, gamma=1, score=0.5732666190135811, total=   1.1s\n",
      "[CV] C=1, gamma=0.1 ..................................................\n",
      "[CV] ......... C=1, gamma=0.1, score=0.7724679029957204, total=   0.5s\n",
      "[CV] C=1, gamma=0.1 ..................................................\n",
      "[CV] ......... C=1, gamma=0.1, score=0.7705503931379557, total=   0.4s\n",
      "[CV] C=1, gamma=0.1 ..................................................\n",
      "[CV] .......... C=1, gamma=0.1, score=0.779842744817727, total=   0.5s\n",
      "[CV] C=1, gamma=0.01 .................................................\n",
      "[CV] ........ C=1, gamma=0.01, score=0.7738944365192582, total=   0.4s\n",
      "[CV] C=1, gamma=0.01 .................................................\n",
      "[CV] ........ C=1, gamma=0.01, score=0.7641172265904217, total=   0.3s\n",
      "[CV] C=1, gamma=0.01 .................................................\n",
      "[CV] ........ C=1, gamma=0.01, score=0.7719799857040743, total=   0.3s\n",
      "[CV] C=1, gamma=0.001 ................................................\n",
      "[CV] ....... C=1, gamma=0.001, score=0.7503566333808844, total=   0.6s\n",
      "[CV] C=1, gamma=0.001 ................................................\n",
      "[CV] ....... C=1, gamma=0.001, score=0.7426733380986419, total=   0.6s\n",
      "[CV] C=1, gamma=0.001 ................................................\n",
      "[CV] ....... C=1, gamma=0.001, score=0.7605432451751251, total=   0.5s\n",
      "[CV] C=10, gamma=1 ...................................................\n",
      "[CV] .......... C=10, gamma=1, score=0.5834522111269614, total=   1.2s\n",
      "[CV] C=10, gamma=1 ...................................................\n",
      "[CV] .......... C=10, gamma=1, score=0.6111508220157256, total=   1.2s\n",
      "[CV] C=10, gamma=1 ...................................................\n",
      "[CV] .......... C=10, gamma=1, score=0.5947105075053609, total=   1.2s\n",
      "[CV] C=10, gamma=0.1 .................................................\n",
      "[CV] ........ C=10, gamma=0.1, score=0.7253922967189729, total=   0.7s\n",
      "[CV] C=10, gamma=0.1 .................................................\n",
      "[CV] ........ C=10, gamma=0.1, score=0.7412437455325233, total=   0.7s\n",
      "[CV] C=10, gamma=0.1 .................................................\n",
      "[CV] ........ C=10, gamma=0.1, score=0.7569692637598284, total=   0.6s\n",
      "[CV] C=10, gamma=0.01 ................................................\n",
      "[CV] ....... C=10, gamma=0.01, score=0.7796005706134094, total=   0.4s\n",
      "[CV] C=10, gamma=0.01 ................................................\n",
      "[CV] ........ C=10, gamma=0.01, score=0.777698355968549, total=   0.3s\n",
      "[CV] C=10, gamma=0.01 ................................................\n",
      "[CV] ....... C=10, gamma=0.01, score=0.7769835596854896, total=   0.4s\n",
      "[CV] C=10, gamma=0.001 ...............................................\n",
      "[CV] ...... C=10, gamma=0.001, score=0.7639087018544936, total=   0.4s\n",
      "[CV] C=10, gamma=0.001 ...............................................\n",
      "[CV] ...... C=10, gamma=0.001, score=0.7576840600428878, total=   0.4s\n",
      "[CV] C=10, gamma=0.001 ...............................................\n",
      "[CV] ...... C=10, gamma=0.001, score=0.7719799857040743, total=   0.3s\n"
     ]
    },
    {
     "name": "stderr",
     "output_type": "stream",
     "text": [
      "[Parallel(n_jobs=1)]: Done  36 out of  36 | elapsed:   33.6s finished\n"
     ]
    },
    {
     "data": {
      "text/plain": [
       "GridSearchCV(cv=None, error_score='raise',\n",
       "       estimator=SVC(C=1, cache_size=200, class_weight=None, coef0=0.0,\n",
       "  decision_function_shape='ovr', degree=3, gamma=1, kernel='rbf',\n",
       "  max_iter=-1, probability=False, random_state=None, shrinking=True,\n",
       "  tol=0.001, verbose=False),\n",
       "       fit_params=None, iid=True, n_jobs=1,\n",
       "       param_grid={'C': [0.1, 1, 10], 'gamma': [1, 0.1, 0.01, 0.001]},\n",
       "       pre_dispatch='2*n_jobs', refit=True, return_train_score='warn',\n",
       "       scoring=None, verbose=3)"
      ]
     },
     "execution_count": 793,
     "metadata": {},
     "output_type": "execute_result"
    }
   ],
   "source": [
    "grid = GridSearchCV(svc_original, param_grid, verbose=3)\n",
    "grid.fit(X_train, y_train)"
   ]
  },
  {
   "cell_type": "code",
   "execution_count": 794,
   "metadata": {},
   "outputs": [
    {
     "data": {
      "text/plain": [
       "{'C': 10, 'gamma': 0.01}"
      ]
     },
     "execution_count": 794,
     "metadata": {},
     "output_type": "execute_result"
    }
   ],
   "source": [
    "grid.best_params_"
   ]
  },
  {
   "cell_type": "markdown",
   "metadata": {},
   "source": [
    "## SVC best"
   ]
  },
  {
   "cell_type": "code",
   "execution_count": 795,
   "metadata": {},
   "outputs": [
    {
     "name": "stdout",
     "output_type": "stream",
     "text": [
      "[[328  14  60  47]\n",
      " [ 14 418   4  31]\n",
      " [ 58  20 351  20]\n",
      " [ 48  47  16 324]]\n",
      "             precision    recall  f1-score   support\n",
      "\n",
      "      dance       0.73      0.73      0.73       449\n",
      "       jazz       0.84      0.90      0.87       467\n",
      "        rap       0.81      0.78      0.80       449\n",
      "       rock       0.77      0.74      0.76       435\n",
      "\n",
      "avg / total       0.79      0.79      0.79      1800\n",
      "\n"
     ]
    }
   ],
   "source": [
    "svc_best = SVC(C=10, gamma=0.01)\n",
    "svc_best.fit(X_train, y_train)\n",
    "svc_predictions2 = svc_best.predict(X_test)\n",
    "print(confusion_matrix(y_test, svc_predictions2))\n",
    "print(classification_report(list(y_test), list(svc_predictions2)))"
   ]
  },
  {
   "cell_type": "markdown",
   "metadata": {},
   "source": [
    "The score increased substantially by optimizing the parameters on the SVC model. Let's try to optimize the number of parameters by using SelectKBest"
   ]
  },
  {
   "cell_type": "markdown",
   "metadata": {},
   "source": [
    "## SVC SelectKBest"
   ]
  },
  {
   "cell_type": "code",
   "execution_count": 796,
   "metadata": {},
   "outputs": [],
   "source": [
    "from sklearn.feature_selection import SelectKBest"
   ]
  },
  {
   "cell_type": "markdown",
   "metadata": {},
   "source": [
    "Let's use the number of parameters found earlier with SelectFromModel (9 features)"
   ]
  },
  {
   "cell_type": "code",
   "execution_count": 797,
   "metadata": {},
   "outputs": [],
   "source": [
    "selector = SelectKBest(k=9)"
   ]
  },
  {
   "cell_type": "code",
   "execution_count": 798,
   "metadata": {},
   "outputs": [
    {
     "data": {
      "text/plain": [
       "(6000, 9)"
      ]
     },
     "execution_count": 798,
     "metadata": {},
     "output_type": "execute_result"
    }
   ],
   "source": [
    "X_new = selector.fit_transform(X, y)\n",
    "X_new.shape"
   ]
  },
  {
   "cell_type": "code",
   "execution_count": 799,
   "metadata": {},
   "outputs": [
    {
     "data": {
      "text/plain": [
       "['energy',\n",
       " 'tempo',\n",
       " 'speechiness',\n",
       " 'acousticness',\n",
       " 'instrumentalness',\n",
       " 'valence',\n",
       " 'mode',\n",
       " 'key_confidence',\n",
       " 'mode_confidence']"
      ]
     },
     "execution_count": 799,
     "metadata": {},
     "output_type": "execute_result"
    }
   ],
   "source": [
    "final_features.columns[selector.get_support(indices=True)].tolist()"
   ]
  },
  {
   "cell_type": "markdown",
   "metadata": {},
   "source": [
    "We notice that the 9 features differ from the ones selected with SelectedFromModel"
   ]
  },
  {
   "cell_type": "code",
   "execution_count": 800,
   "metadata": {},
   "outputs": [],
   "source": [
    "X = X_new\n",
    "y = final_labels\n",
    "X_train, X_test, y_train, y_test = train_test_split(X, y, test_size=0.3, random_state=101)"
   ]
  },
  {
   "cell_type": "code",
   "execution_count": 801,
   "metadata": {},
   "outputs": [
    {
     "name": "stdout",
     "output_type": "stream",
     "text": [
      "[[319  13  61  56]\n",
      " [ 12 406   9  40]\n",
      " [ 61  20 344  24]\n",
      " [ 54  68  15 298]]\n",
      "             precision    recall  f1-score   support\n",
      "\n",
      "      dance       0.72      0.71      0.71       449\n",
      "       jazz       0.80      0.87      0.83       467\n",
      "        rap       0.80      0.77      0.78       449\n",
      "       rock       0.71      0.69      0.70       435\n",
      "\n",
      "avg / total       0.76      0.76      0.76      1800\n",
      "\n"
     ]
    }
   ],
   "source": [
    "svc_opti = SVC(C=10, gamma=0.01)\n",
    "svc_opti.fit(X_train, y_train)\n",
    "svc_predictions3 = svc_opti.predict(X_test)\n",
    "print(confusion_matrix(y_test, svc_predictions3))\n",
    "print(classification_report(list(y_test), list(svc_predictions3)))"
   ]
  },
  {
   "cell_type": "markdown",
   "metadata": {},
   "source": [
    "We notice that the accuracy is lower than before adjusting the parameters, however it costs less in calculation power. We can also notice this model is slightly more accurate than the Logistic Regression ones"
   ]
  },
  {
   "cell_type": "markdown",
   "metadata": {},
   "source": [
    "Let's now look at the Random Forest model"
   ]
  },
  {
   "cell_type": "markdown",
   "metadata": {},
   "source": [
    "# Random Forest"
   ]
  },
  {
   "cell_type": "markdown",
   "metadata": {},
   "source": [
    "## RFC original"
   ]
  },
  {
   "cell_type": "code",
   "execution_count": 802,
   "metadata": {},
   "outputs": [],
   "source": [
    "from sklearn.ensemble import RandomForestClassifier"
   ]
  },
  {
   "cell_type": "code",
   "execution_count": 803,
   "metadata": {},
   "outputs": [],
   "source": [
    "rfc_original = RandomForestClassifier(n_estimators=5, min_samples_split=2, max_features='log2')"
   ]
  },
  {
   "cell_type": "code",
   "execution_count": 804,
   "metadata": {},
   "outputs": [],
   "source": [
    "X = final_features\n",
    "#No need to use the scaled features\n",
    "y = final_labels\n",
    "X_train, X_test, y_train, y_test = train_test_split(X, y, test_size=0.3, random_state=101)"
   ]
  },
  {
   "cell_type": "code",
   "execution_count": 805,
   "metadata": {},
   "outputs": [
    {
     "data": {
      "text/plain": [
       "RandomForestClassifier(bootstrap=True, class_weight=None, criterion='gini',\n",
       "            max_depth=None, max_features='log2', max_leaf_nodes=None,\n",
       "            min_impurity_decrease=0.0, min_impurity_split=None,\n",
       "            min_samples_leaf=1, min_samples_split=2,\n",
       "            min_weight_fraction_leaf=0.0, n_estimators=5, n_jobs=1,\n",
       "            oob_score=False, random_state=None, verbose=0,\n",
       "            warm_start=False)"
      ]
     },
     "execution_count": 805,
     "metadata": {},
     "output_type": "execute_result"
    }
   ],
   "source": [
    "rfc_original.fit(X_train, y_train)"
   ]
  },
  {
   "cell_type": "code",
   "execution_count": 806,
   "metadata": {},
   "outputs": [
    {
     "name": "stdout",
     "output_type": "stream",
     "text": [
      "[[320  16  64  49]\n",
      " [ 22 392  10  43]\n",
      " [ 63  24 341  21]\n",
      " [ 67  67  29 272]]\n",
      "             precision    recall  f1-score   support\n",
      "\n",
      "      dance       0.68      0.71      0.69       449\n",
      "       jazz       0.79      0.84      0.81       467\n",
      "        rap       0.77      0.76      0.76       449\n",
      "       rock       0.71      0.63      0.66       435\n",
      "\n",
      "avg / total       0.74      0.74      0.73      1800\n",
      "\n"
     ]
    }
   ],
   "source": [
    "rfc_predictions = rfc_original.predict(X_test)\n",
    "print(confusion_matrix(y_test, rfc_predictions))\n",
    "print(classification_report(list(y_test), list(rfc_predictions)))"
   ]
  },
  {
   "cell_type": "markdown",
   "metadata": {},
   "source": [
    "Let's now look at the parameter optimization with GridSearchCV"
   ]
  },
  {
   "cell_type": "markdown",
   "metadata": {},
   "source": [
    "## RFC GridSearchCV"
   ]
  },
  {
   "cell_type": "code",
   "execution_count": 807,
   "metadata": {},
   "outputs": [],
   "source": [
    "param_grid = {'n_estimators': [5, 10, 100], 'min_samples_split': [2, 3, 4, 5, 10], 'max_features': ['sqrt', 'log2', 'auto']}"
   ]
  },
  {
   "cell_type": "code",
   "execution_count": 808,
   "metadata": {
    "scrolled": false
   },
   "outputs": [
    {
     "name": "stdout",
     "output_type": "stream",
     "text": [
      "Fitting 3 folds for each of 45 candidates, totalling 135 fits\n"
     ]
    },
    {
     "name": "stderr",
     "output_type": "stream",
     "text": [
      "[Parallel(n_jobs=1)]: Done 135 out of 135 | elapsed:   54.8s finished\n"
     ]
    },
    {
     "data": {
      "text/plain": [
       "GridSearchCV(cv=None, error_score='raise',\n",
       "       estimator=RandomForestClassifier(bootstrap=True, class_weight=None, criterion='gini',\n",
       "            max_depth=None, max_features='log2', max_leaf_nodes=None,\n",
       "            min_impurity_decrease=0.0, min_impurity_split=None,\n",
       "            min_samples_leaf=1, min_samples_split=2,\n",
       "            min_weight_fraction_leaf=0.0, n_estimators=5, n_jobs=1,\n",
       "            oob_score=False, random_state=None, verbose=0,\n",
       "            warm_start=False),\n",
       "       fit_params=None, iid=True, n_jobs=1,\n",
       "       param_grid={'n_estimators': [5, 10, 100], 'min_samples_split': [2, 3, 4, 5, 10], 'max_features': ['sqrt', 'log2', 'auto']},\n",
       "       pre_dispatch='2*n_jobs', refit=True, return_train_score='warn',\n",
       "       scoring=None, verbose=1)"
      ]
     },
     "execution_count": 808,
     "metadata": {},
     "output_type": "execute_result"
    }
   ],
   "source": [
    "grid = GridSearchCV(rfc_original, param_grid, verbose=1)\n",
    "grid.fit(X_train, y_train)"
   ]
  },
  {
   "cell_type": "code",
   "execution_count": 809,
   "metadata": {},
   "outputs": [
    {
     "data": {
      "text/plain": [
       "{'max_features': 'log2', 'min_samples_split': 4, 'n_estimators': 100}"
      ]
     },
     "execution_count": 809,
     "metadata": {},
     "output_type": "execute_result"
    }
   ],
   "source": [
    "grid.best_params_"
   ]
  },
  {
   "cell_type": "markdown",
   "metadata": {},
   "source": [
    "## RFC best"
   ]
  },
  {
   "cell_type": "code",
   "execution_count": 810,
   "metadata": {},
   "outputs": [
    {
     "name": "stdout",
     "output_type": "stream",
     "text": [
      "[[327  12  62  48]\n",
      " [ 16 405   9  37]\n",
      " [ 37  21 364  27]\n",
      " [ 39  55  16 325]]\n",
      "             precision    recall  f1-score   support\n",
      "\n",
      "      dance       0.78      0.73      0.75       449\n",
      "       jazz       0.82      0.87      0.84       467\n",
      "        rap       0.81      0.81      0.81       449\n",
      "       rock       0.74      0.75      0.75       435\n",
      "\n",
      "avg / total       0.79      0.79      0.79      1800\n",
      "\n"
     ]
    }
   ],
   "source": [
    "rfc_best = RandomForestClassifier(n_estimators=100, min_samples_split=3, max_features='log2')\n",
    "rfc_best.fit(X_train, y_train)\n",
    "rfc_predictions2 = rfc_best.predict(X_test)\n",
    "print(confusion_matrix(y_test, rfc_predictions2))\n",
    "print(classification_report(list(y_test), list(rfc_predictions2)))"
   ]
  },
  {
   "cell_type": "markdown",
   "metadata": {},
   "source": [
    "We notice that the accuracy score increased compared to the previous model. We can also notice that this score is similar to the SVC score after parameter optimization"
   ]
  },
  {
   "cell_type": "markdown",
   "metadata": {},
   "source": [
    "Let's now try to optimize the features"
   ]
  },
  {
   "cell_type": "markdown",
   "metadata": {},
   "source": [
    "## RFC SelectFromModel"
   ]
  },
  {
   "cell_type": "code",
   "execution_count": 811,
   "metadata": {},
   "outputs": [
    {
     "data": {
      "text/html": [
       "<div>\n",
       "<style scoped>\n",
       "    .dataframe tbody tr th:only-of-type {\n",
       "        vertical-align: middle;\n",
       "    }\n",
       "\n",
       "    .dataframe tbody tr th {\n",
       "        vertical-align: top;\n",
       "    }\n",
       "\n",
       "    .dataframe thead th {\n",
       "        text-align: right;\n",
       "    }\n",
       "</style>\n",
       "<table border=\"1\" class=\"dataframe\">\n",
       "  <thead>\n",
       "    <tr style=\"text-align: right;\">\n",
       "      <th></th>\n",
       "      <th>feature</th>\n",
       "      <th>importance</th>\n",
       "    </tr>\n",
       "  </thead>\n",
       "  <tbody>\n",
       "    <tr>\n",
       "      <th>0</th>\n",
       "      <td>key</td>\n",
       "      <td>0.018</td>\n",
       "    </tr>\n",
       "    <tr>\n",
       "      <th>1</th>\n",
       "      <td>energy</td>\n",
       "      <td>0.083</td>\n",
       "    </tr>\n",
       "    <tr>\n",
       "      <th>2</th>\n",
       "      <td>liveliness</td>\n",
       "      <td>0.029</td>\n",
       "    </tr>\n",
       "    <tr>\n",
       "      <th>3</th>\n",
       "      <td>tempo</td>\n",
       "      <td>0.072</td>\n",
       "    </tr>\n",
       "    <tr>\n",
       "      <th>4</th>\n",
       "      <td>speechiness</td>\n",
       "      <td>0.127</td>\n",
       "    </tr>\n",
       "    <tr>\n",
       "      <th>5</th>\n",
       "      <td>acousticness</td>\n",
       "      <td>0.162</td>\n",
       "    </tr>\n",
       "    <tr>\n",
       "      <th>6</th>\n",
       "      <td>instrumentalness</td>\n",
       "      <td>0.063</td>\n",
       "    </tr>\n",
       "    <tr>\n",
       "      <th>7</th>\n",
       "      <td>time_signature</td>\n",
       "      <td>0.008</td>\n",
       "    </tr>\n",
       "    <tr>\n",
       "      <th>8</th>\n",
       "      <td>duration</td>\n",
       "      <td>0.004</td>\n",
       "    </tr>\n",
       "    <tr>\n",
       "      <th>9</th>\n",
       "      <td>loudness</td>\n",
       "      <td>0.054</td>\n",
       "    </tr>\n",
       "    <tr>\n",
       "      <th>10</th>\n",
       "      <td>valence</td>\n",
       "      <td>0.056</td>\n",
       "    </tr>\n",
       "    <tr>\n",
       "      <th>11</th>\n",
       "      <td>danceability</td>\n",
       "      <td>0.039</td>\n",
       "    </tr>\n",
       "    <tr>\n",
       "      <th>12</th>\n",
       "      <td>mode</td>\n",
       "      <td>0.126</td>\n",
       "    </tr>\n",
       "    <tr>\n",
       "      <th>13</th>\n",
       "      <td>time_signature_confidence</td>\n",
       "      <td>0.033</td>\n",
       "    </tr>\n",
       "    <tr>\n",
       "      <th>14</th>\n",
       "      <td>tempo_confidence</td>\n",
       "      <td>0.034</td>\n",
       "    </tr>\n",
       "    <tr>\n",
       "      <th>15</th>\n",
       "      <td>key_confidence</td>\n",
       "      <td>0.067</td>\n",
       "    </tr>\n",
       "    <tr>\n",
       "      <th>16</th>\n",
       "      <td>mode_confidence</td>\n",
       "      <td>0.027</td>\n",
       "    </tr>\n",
       "  </tbody>\n",
       "</table>\n",
       "</div>"
      ],
      "text/plain": [
       "                      feature  importance\n",
       "0                         key       0.018\n",
       "1                      energy       0.083\n",
       "2                  liveliness       0.029\n",
       "3                       tempo       0.072\n",
       "4                 speechiness       0.127\n",
       "5                acousticness       0.162\n",
       "6            instrumentalness       0.063\n",
       "7              time_signature       0.008\n",
       "8                    duration       0.004\n",
       "9                    loudness       0.054\n",
       "10                    valence       0.056\n",
       "11               danceability       0.039\n",
       "12                       mode       0.126\n",
       "13  time_signature_confidence       0.033\n",
       "14           tempo_confidence       0.034\n",
       "15             key_confidence       0.067\n",
       "16            mode_confidence       0.027"
      ]
     },
     "execution_count": 811,
     "metadata": {},
     "output_type": "execute_result"
    }
   ],
   "source": [
    "importances = pd.DataFrame(data={'feature': final_features.columns, 'importance': np.round(rfc_best.feature_importances_,3)})\n",
    "importances"
   ]
  },
  {
   "cell_type": "code",
   "execution_count": 812,
   "metadata": {},
   "outputs": [
    {
     "data": {
      "text/plain": [
       "array([0.00379726, 0.00775926, 0.01763303, 0.02735475, 0.02880325,\n",
       "       0.03258681, 0.03379083, 0.03885615, 0.05388322, 0.05580026,\n",
       "       0.06293102, 0.06666359, 0.07190449, 0.08346614, 0.12556962,\n",
       "       0.12749537, 0.16170495])"
      ]
     },
     "execution_count": 812,
     "metadata": {},
     "output_type": "execute_result"
    }
   ],
   "source": [
    "from numpy import sort\n",
    "thresholds = sort(rfc_best.feature_importances_)\n",
    "thresholds"
   ]
  },
  {
   "cell_type": "code",
   "execution_count": 813,
   "metadata": {},
   "outputs": [
    {
     "name": "stdout",
     "output_type": "stream",
     "text": [
      "0.0037972553896849447\n",
      "17\n",
      "0.7733333333333333\n",
      "\n",
      "0.00775926333750653\n",
      "16\n",
      "0.7572222222222222\n",
      "\n",
      "0.017633027299059672\n",
      "15\n",
      "0.75\n",
      "\n",
      "0.027354749106531778\n",
      "14\n",
      "0.76\n",
      "\n",
      "0.028803248549640396\n",
      "13\n",
      "0.7544444444444445\n",
      "\n",
      "0.03258680880369927\n",
      "12\n",
      "0.7533333333333333\n",
      "\n",
      "0.03379083251868591\n",
      "11\n",
      "0.77\n",
      "\n",
      "0.038856151818175755\n",
      "10\n",
      "0.7577777777777778\n",
      "\n",
      "0.05388321779723584\n",
      "9\n",
      "0.7594444444444445\n",
      "\n",
      "0.055800257608282236\n",
      "8\n",
      "0.7572222222222222\n",
      "\n",
      "0.06293102402486409\n",
      "7\n",
      "0.7494444444444445\n",
      "\n",
      "0.06666359330320056\n",
      "6\n",
      "0.735\n",
      "\n",
      "0.07190449301916034\n",
      "5\n",
      "0.7194444444444444\n",
      "\n",
      "0.08346613505840575\n",
      "4\n",
      "0.6911111111111111\n",
      "\n",
      "0.1255696210167754\n",
      "3\n",
      "0.6705555555555556\n",
      "\n",
      "0.12749536707519343\n",
      "2\n",
      "0.5894444444444444\n",
      "\n",
      "0.16170495427389817\n",
      "1\n",
      "0.4633333333333333\n",
      "\n"
     ]
    }
   ],
   "source": [
    "from sklearn.metrics import accuracy_score\n",
    "for i in thresholds:\n",
    "    rfc_sfm = SelectFromModel(rfc_best, threshold=i, prefit=True)\n",
    "    select_X_train = rfc_sfm.transform(X_train)\n",
    "    rfc2 = RandomForestClassifier()\n",
    "    rfc2.fit(select_X_train, y_train)\n",
    "    select_X_test = rfc_sfm.transform(X_test)\n",
    "    predictions = rfc2.predict(select_X_test)\n",
    "    accuracy = accuracy_score(y_test, predictions)\n",
    "    print(i)\n",
    "    print(select_X_train.shape[1])\n",
    "    print(accuracy)\n",
    "    print(\"\")"
   ]
  },
  {
   "cell_type": "markdown",
   "metadata": {},
   "source": [
    "The above analysis seems to be in agreement with our present studies: 9 features shoudl provide a good accuracy with only a few tradeoffs"
   ]
  },
  {
   "cell_type": "code",
   "execution_count": 814,
   "metadata": {},
   "outputs": [
    {
     "data": {
      "text/plain": [
       "(4200, 9)"
      ]
     },
     "execution_count": 814,
     "metadata": {},
     "output_type": "execute_result"
    }
   ],
   "source": [
    "rfc_sfm2 = SelectFromModel(rfc_best, threshold=0.0533, prefit=True)\n",
    "X_train_new = rfc_sfm2.transform(X_train)\n",
    "X_train_new.shape"
   ]
  },
  {
   "cell_type": "code",
   "execution_count": 815,
   "metadata": {},
   "outputs": [
    {
     "data": {
      "text/plain": [
       "(1800, 9)"
      ]
     },
     "execution_count": 815,
     "metadata": {},
     "output_type": "execute_result"
    }
   ],
   "source": [
    "X_test_new = rfc_sfm2.transform(X_test)\n",
    "X_test_new.shape"
   ]
  },
  {
   "cell_type": "code",
   "execution_count": 816,
   "metadata": {},
   "outputs": [
    {
     "name": "stdout",
     "output_type": "stream",
     "text": [
      "Index(['energy', 'tempo', 'speechiness', 'acousticness', 'instrumentalness',\n",
      "       'loudness', 'valence', 'mode', 'key_confidence'],\n",
      "      dtype='object')\n"
     ]
    }
   ],
   "source": [
    "X_test_new_index = rfc_sfm2.get_support()\n",
    "X_test_new_name = final_features.columns[X_test_new_index]\n",
    "print(X_test_new_name)"
   ]
  },
  {
   "cell_type": "markdown",
   "metadata": {},
   "source": [
    "We can notice the selected features are different from 2 previous models"
   ]
  },
  {
   "cell_type": "code",
   "execution_count": 817,
   "metadata": {},
   "outputs": [
    {
     "name": "stdout",
     "output_type": "stream",
     "text": [
      "[[323  11  60  55]\n",
      " [ 15 400  10  42]\n",
      " [ 49  20 356  24]\n",
      " [ 44  52  16 323]]\n",
      "             precision    recall  f1-score   support\n",
      "\n",
      "      dance       0.75      0.72      0.73       449\n",
      "       jazz       0.83      0.86      0.84       467\n",
      "        rap       0.81      0.79      0.80       449\n",
      "       rock       0.73      0.74      0.73       435\n",
      "\n",
      "avg / total       0.78      0.78      0.78      1800\n",
      "\n"
     ]
    }
   ],
   "source": [
    "rfc_opti = RandomForestClassifier(n_estimators=100, min_samples_split=3, max_features='log2')\n",
    "rfc_opti.fit(X_train_new, y_train)\n",
    "rfc_predictions3 = rfc_opti.predict(X_test_new)\n",
    "print(confusion_matrix(y_test, rfc_predictions3))\n",
    "print(classification_report(list(y_test), list(rfc_predictions3)))"
   ]
  },
  {
   "cell_type": "markdown",
   "metadata": {},
   "source": [
    "Again the score is slightly lower than just before however the number of features is lower. So there is only a small accuracy tradeoff for lowert computation time"
   ]
  },
  {
   "cell_type": "markdown",
   "metadata": {},
   "source": [
    "Last step, let's now compare with RFE"
   ]
  },
  {
   "cell_type": "markdown",
   "metadata": {},
   "source": [
    "## RFC RFE"
   ]
  },
  {
   "cell_type": "code",
   "execution_count": 818,
   "metadata": {},
   "outputs": [],
   "source": [
    "rfc_rfe = RandomForestClassifier(n_estimators=100, min_samples_split=3, max_features='log2')\n",
    "rfe_model = RFE(rfc_rfe, 9)"
   ]
  },
  {
   "cell_type": "code",
   "execution_count": 819,
   "metadata": {},
   "outputs": [],
   "source": [
    "rfe_model = rfe_model.fit(X_train, y_train)"
   ]
  },
  {
   "cell_type": "code",
   "execution_count": 820,
   "metadata": {},
   "outputs": [
    {
     "name": "stdout",
     "output_type": "stream",
     "text": [
      "[False  True False  True  True  True  True False False  True  True False\n",
      "  True False False  True False]\n",
      "[7 1 5 1 1 1 1 8 9 1 1 2 1 3 4 1 6]\n"
     ]
    }
   ],
   "source": [
    "print(rfe_model.support_)\n",
    "print(rfe_model.ranking_)"
   ]
  },
  {
   "cell_type": "code",
   "execution_count": 821,
   "metadata": {},
   "outputs": [
    {
     "name": "stdout",
     "output_type": "stream",
     "text": [
      "Index(['energy', 'tempo', 'speechiness', 'acousticness', 'instrumentalness',\n",
      "       'loudness', 'valence', 'mode', 'key_confidence'],\n",
      "      dtype='object')\n"
     ]
    }
   ],
   "source": [
    "selected_features = final_features.columns[rfe_model.support_]\n",
    "print(selected_features)"
   ]
  },
  {
   "cell_type": "markdown",
   "metadata": {},
   "source": [
    "The features selected are the same as in the above model"
   ]
  },
  {
   "cell_type": "code",
   "execution_count": 822,
   "metadata": {},
   "outputs": [],
   "source": [
    "rfe_predictions = rfe_model.predict(X_test)"
   ]
  },
  {
   "cell_type": "code",
   "execution_count": 823,
   "metadata": {},
   "outputs": [
    {
     "name": "stdout",
     "output_type": "stream",
     "text": [
      "[[327  12  57  53]\n",
      " [ 13 397  13  44]\n",
      " [ 40  20 359  30]\n",
      " [ 45  56  17 317]]\n",
      "             precision    recall  f1-score   support\n",
      "\n",
      "      dance       0.77      0.73      0.75       449\n",
      "       jazz       0.82      0.85      0.83       467\n",
      "        rap       0.80      0.80      0.80       449\n",
      "       rock       0.71      0.73      0.72       435\n",
      "\n",
      "avg / total       0.78      0.78      0.78      1800\n",
      "\n"
     ]
    }
   ],
   "source": [
    "print(confusion_matrix(y_test, rfe_predictions))\n",
    "print(classification_report(list(y_test), list(rfe_predictions)))"
   ]
  },
  {
   "cell_type": "markdown",
   "metadata": {},
   "source": [
    "Similar results to above. Again, compared to the study without feature selection the score is slightly lower which is only a small tradeoff as the computation is cheaper."
   ]
  },
  {
   "cell_type": "markdown",
   "metadata": {},
   "source": [
    "I unfortunately do not have enough time to explore the mood column or to look for the right number of features for the SVC method, but this would be interesting to explore"
   ]
  }
 ],
 "metadata": {
  "kernelspec": {
   "display_name": "Python 3",
   "language": "python",
   "name": "python3"
  },
  "language_info": {
   "codemirror_mode": {
    "name": "ipython",
    "version": 3
   },
   "file_extension": ".py",
   "mimetype": "text/x-python",
   "name": "python",
   "nbconvert_exporter": "python",
   "pygments_lexer": "ipython3",
   "version": "3.6.4"
  }
 },
 "nbformat": 4,
 "nbformat_minor": 2
}
